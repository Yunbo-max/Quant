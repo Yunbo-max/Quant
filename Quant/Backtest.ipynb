{
 "cells": [
  {
   "cell_type": "markdown",
   "metadata": {},
   "source": [
    "1. Look-ahead bias (not the same as Data Leakage) can occur here (or any other part of the pre and post processing), if the programmer accidentally adds in code which tells the algorithm what will happen in the future, before it actually happens.\n",
    "\n",
    "2. Data Leakage"
   ]
  },
  {
   "cell_type": "markdown",
   "metadata": {},
   "source": [
    "following assumptions:\n",
    "- Ultra-low latency\n",
    "- Zero [slippage](https://www.investopedia.com/terms/s/slippage.asp)\n",
    "- No [bid-ask spread](https://www.investopedia.com/terms/s/slippage.asp) incorporation (which can be added in)\n",
    "- All our market orders are filled. \n"
   ]
  },
  {
   "cell_type": "code",
   "execution_count": 1,
   "metadata": {},
   "outputs": [
    {
     "ename": "SyntaxError",
     "evalue": "invalid syntax (2755377236.py, line 17)",
     "output_type": "error",
     "traceback": [
      "\u001b[0;36m  Cell \u001b[0;32mIn[1], line 17\u001b[0;36m\u001b[0m\n\u001b[0;31m    elif abs(current-mean_price)>1.5*std and current_price<mean_price and long position==0:\u001b[0m\n\u001b[0m                                                                               ^\u001b[0m\n\u001b[0;31mSyntaxError\u001b[0m\u001b[0;31m:\u001b[0m invalid syntax\n"
     ]
    }
   ],
   "source": [
    "### Very simple mean reversion idea ### Most likely won't work. Just to represent how the Main Indexer controls the data feed into the algorithm.\n",
    "SMA=10\n",
    "long_position=0\n",
    "short_position=0\n",
    "win_trades=0\n",
    "lose_trades=0\n",
    "ROIs=[]\n",
    "trades+=1\n",
    "for I in range(SMA, len(df)):\n",
    "    mean_price=df.iloc[I-10:I].mean() #This slices from index 0 to index 9 INCLUSIVE (therefore 10 observations).\n",
    "    std=df.iloc[I-10:I].std()\n",
    "    current_price=df.iloc[I-1]\n",
    "    \n",
    "    if current_price-mean_price>1.5*std and short_position==0: #Only buy if we don't already have an open position\n",
    "        buy_short=df.iloc[I-1]   # Remeber which point in time is represented buy the Main Indexer. IMPORTANT NOTE: If you run your condition at the close, you HAVE to order at the open of the next time period.\n",
    "        short_position=1  \n",
    "    elif abs(current-mean_price)>1.5*std and current_price<mean_price and long position==0:\n",
    "        buy_long=df.iloc[I-1]\n",
    "        long_position=1\n",
    "    elif abs(current-mean_price)>1.5*std and current_price<mean_price and short_position==1:\n",
    "        sell_short=df.iloc[I-1]\n",
    "        Revenue_or_points=buy_short-sell_short\n",
    "        ROI=(buy_short-sell_short)/buy_short\n",
    "        ROIs.append(ROI)\n",
    "        trades+=1\n",
    "        if ROI>0:\n",
    "            win_trades+=1\n",
    "        else:\n",
    "            lose_trades+=1\n",
    "        short_position=0\n",
    "        \n",
    "        buy_long=df.iloc[I-1]\n",
    "        long_position=1\n",
    "    elif current_price-mean_price>1.5*std and long_position==1:\n",
    "        sell_long=df.iloc[I-1]\n",
    "        Revenue_or_points=sell_long-buy_long\n",
    "        ROI=(sell_long-buy_long)/buy_long\n",
    "        ROIs.append(ROI)\n",
    "        trades+1\n",
    "        if ROI>0:\n",
    "            win_trades+=1\n",
    "        else:\n",
    "            lose_trades+=1\n",
    "        long_position=0\n",
    "        \n",
    "        buy_short=df.iloc[I-1]\n",
    "        short_position=1"
   ]
  }
 ],
 "metadata": {
  "kernelspec": {
   "display_name": "Cambridge",
   "language": "python",
   "name": "python3"
  },
  "language_info": {
   "codemirror_mode": {
    "name": "ipython",
    "version": 3
   },
   "file_extension": ".py",
   "mimetype": "text/x-python",
   "name": "python",
   "nbconvert_exporter": "python",
   "pygments_lexer": "ipython3",
   "version": "3.10.13"
  }
 },
 "nbformat": 4,
 "nbformat_minor": 2
}
