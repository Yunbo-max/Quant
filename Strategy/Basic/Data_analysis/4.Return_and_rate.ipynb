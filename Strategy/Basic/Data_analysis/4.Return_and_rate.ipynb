# -*- coding: utf-8 -*-
"""
Created on Mon Oct 30 19:41:59 2023

@author: jrjol
"""
from polygon import RESTClient

client = RESTClient(api_key="ocunxnOqC0pnltRqT3VkOiKeCmPE49L7")

import requests

url = "https://api.polygon.io/v2/aggs/ticker/AAPL/range/1/day/2015-10-22/2024-01-07?adjusted=true&sort=asc&limit=5000&apiKey=ocunxnOqC0pnltRqT3VkOiKeCmPE49L7"

response = requests.get(url)

if response.status_code == 200:
    data = response.json()
    print(data)
else:
    print("Failed to retrieve data. Status code:", response.status_code)
    
import pandas as pd

results = data["results"]
df = pd.DataFrame(results)

# convert the time from mili-second to datetime 
df['t'] = pd.to_datetime(df['t'], unit='ms')

df.index = df['t']

print(df['c']['2023'])
