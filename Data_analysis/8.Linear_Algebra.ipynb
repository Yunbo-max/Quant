{
 "cells": [
  {
   "cell_type": "code",
   "execution_count": 4,
   "metadata": {},
   "outputs": [
    {
     "name": "stdout",
     "output_type": "stream",
     "text": [
      "[[1 2 3]\n",
      " [2 2 1]\n",
      " [3 2 1]]\n",
      "<class 'numpy.ndarray'>\n",
      "[[1 2 3]\n",
      " [2 2 2]\n",
      " [3 1 1]]\n",
      "[[20 22]\n",
      " [24 20]\n",
      " [16 16]]\n"
     ]
    }
   ],
   "source": [
    "import numpy as np\n",
    "a = np.array([1,2,3])\n",
    "b = np.array([2,2,2])\n",
    "c = np.array([3,1,1])\n",
    "matrix = np.column_stack((a,b,c))\n",
    "print(matrix)\n",
    "print(type(matrix))\n",
    "\n",
    "matrix2 = np.array([a,b,c])\n",
    "print(matrix2)\n",
    "\n",
    "A = np.array([[2,3],[4,2],[2,2]])\n",
    "B = np.array([[4,2],[4,6]])\n",
    "x = np.dot(A,B)\n",
    "print(x)"
   ]
  },
  {
   "cell_type": "code",
   "execution_count": 13,
   "metadata": {},
   "outputs": [
    {
     "name": "stdout",
     "output_type": "stream",
     "text": [
      "[[1 2 3]\n",
      " [2 2 1]\n",
      " [3 2 1]]\n",
      "\n",
      "-------------------------\n",
      "\n",
      "[[ 0.   -1.    1.  ]\n",
      " [-0.25  2.   -1.25]\n",
      " [ 0.5  -1.    0.5 ]]\n"
     ]
    }
   ],
   "source": [
    "x = np.dot(A,B)\n",
    "\n",
    "\n",
    "print(matrix)\n",
    "print('\\n-------------------------\\n')\n",
    "print(np.linalg.inv(matrix))"
   ]
  },
  {
   "cell_type": "code",
   "execution_count": 14,
   "metadata": {},
   "outputs": [
    {
     "name": "stdout",
     "output_type": "stream",
     "text": [
      "[[ 1.00000000e+00 -6.66133815e-16  5.55111512e-16]\n",
      " [ 0.00000000e+00  1.00000000e+00  1.11022302e-16]\n",
      " [ 0.00000000e+00 -2.22044605e-16  1.00000000e+00]]\n",
      "\n",
      "-------------------------\n",
      "\n",
      "[[ 1.00000000e+00 -4.44089210e-16 -2.22044605e-16]\n",
      " [ 6.66133815e-16  1.00000000e+00  0.00000000e+00]\n",
      " [-1.11022302e-16  0.00000000e+00  1.00000000e+00]]\n"
     ]
    }
   ],
   "source": [
    "inverse = np.linalg.inv(matrix)\n",
    "print(np.dot(matrix, inverse))\n",
    "print('\\n-------------------------\\n')\n",
    "print(np.dot(inverse,matrix))"
   ]
  },
  {
   "cell_type": "code",
   "execution_count": 16,
   "metadata": {},
   "outputs": [
    {
     "name": "stdout",
     "output_type": "stream",
     "text": [
      "The matrix is singular, and its determinant is zero.\n"
     ]
    }
   ],
   "source": [
    "import numpy as np\n",
    "\n",
    "singular = np.array([[1, 2, 3], [1, 2, 3], [3, 3, 3]])\n",
    "\n",
    "# Check if the matrix is singular\n",
    "det = np.linalg.det(singular)\n",
    "\n",
    "if det == 0:\n",
    "    print(\"The matrix is singular, and its determinant is zero.\")\n",
    "else:\n",
    "    inv = np.linalg.inv(singular)\n",
    "    print(\"The matrix is non-singular, and its inverse is:\")\n",
    "    print(inv)\n"
   ]
  },
  {
   "cell_type": "code",
   "execution_count": 18,
   "metadata": {},
   "outputs": [
    {
     "name": "stdout",
     "output_type": "stream",
     "text": [
      "[[ 2.]\n",
      " [ 3.]\n",
      " [-1.]]\n",
      "[[ 2.]\n",
      " [ 3.]\n",
      " [-1.]]\n"
     ]
    }
   ],
   "source": [
    "A = np.array([[2,1,-1],[-3,-1,2],[-2,1,2]])\n",
    "b = np.array([[8],[-11],[-3]])\n",
    "inv_A = np.linalg.inv(A)\n",
    "print(np.dot(inv_A, b))\n",
    "\n",
    "print(np.linalg.solve(A, b))"
   ]
  }
 ],
 "metadata": {
  "kernelspec": {
   "display_name": "quant",
   "language": "python",
   "name": "python3"
  },
  "language_info": {
   "codemirror_mode": {
    "name": "ipython",
    "version": 3
   },
   "file_extension": ".py",
   "mimetype": "text/x-python",
   "name": "python",
   "nbconvert_exporter": "python",
   "pygments_lexer": "ipython3",
   "version": "3.9.18"
  }
 },
 "nbformat": 4,
 "nbformat_minor": 2
}
