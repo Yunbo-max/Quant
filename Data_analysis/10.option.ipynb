{
 "cells": [
  {
   "cell_type": "code",
   "execution_count": 2,
   "metadata": {},
   "outputs": [
    {
     "data": {
      "text/plain": [
       "('2024-01-12',\n",
       " '2024-01-19',\n",
       " '2024-01-26',\n",
       " '2024-02-02',\n",
       " '2024-02-09',\n",
       " '2024-02-16',\n",
       " '2024-02-23',\n",
       " '2024-03-15',\n",
       " '2024-04-19',\n",
       " '2024-05-17',\n",
       " '2024-06-21',\n",
       " '2024-07-19',\n",
       " '2024-08-16',\n",
       " '2024-09-20',\n",
       " '2024-12-20',\n",
       " '2025-01-17',\n",
       " '2025-06-20',\n",
       " '2025-09-19',\n",
       " '2025-12-19',\n",
       " '2026-01-16',\n",
       " '2026-06-18')"
      ]
     },
     "execution_count": 2,
     "metadata": {},
     "output_type": "execute_result"
    }
   ],
   "source": [
    "import yfinance as yf\n",
    "\n",
    "# Replace 'AAPL' with the desired stock symbol\n",
    "symbol = 'AAPL'\n",
    "\n",
    "# Get the options data for the specified symbol\n",
    "options_data = yf.Ticker(symbol).options\n",
    "\n",
    "# Print the options data\n",
    "options_data\n"
   ]
  },
  {
   "cell_type": "code",
   "execution_count": 3,
   "metadata": {},
   "outputs": [
    {
     "data": {
      "text/plain": [
       "Options(calls=         contractSymbol             lastTradeDate  strike  lastPrice     bid  \\\n",
       "0   AAPL240119C00050000 2024-01-08 19:34:18+00:00    50.0     135.10  134.00   \n",
       "1   AAPL240119C00055000 2024-01-05 20:24:07+00:00    55.0     125.45  129.05   \n",
       "2   AAPL240119C00060000 2024-01-09 16:02:43+00:00    60.0     123.80  124.05   \n",
       "3   AAPL240119C00065000 2024-01-08 17:33:13+00:00    65.0     119.25  119.00   \n",
       "4   AAPL240119C00070000 2024-01-09 15:59:49+00:00    70.0     113.61  114.10   \n",
       "..                  ...                       ...     ...        ...     ...   \n",
       "62  AAPL240119C00285000 2024-01-08 18:32:07+00:00   285.0       0.01    0.00   \n",
       "63  AAPL240119C00290000 2024-01-09 14:30:00+00:00   290.0       0.01    0.00   \n",
       "64  AAPL240119C00300000 2024-01-05 14:35:11+00:00   300.0       0.01    0.00   \n",
       "65  AAPL240119C00310000 2023-12-01 14:52:58+00:00   310.0       0.01    0.00   \n",
       "66  AAPL240119C00320000 2024-01-08 14:34:48+00:00   320.0       0.01    0.00   \n",
       "\n",
       "       ask    change  percentChange  volume  openInterest  impliedVolatility  \\\n",
       "0   134.30  0.000000       0.000000      15         16847           0.000010   \n",
       "1   129.30  0.000000       0.000000       1          3353           0.000010   \n",
       "2   124.35 -0.519997      -0.418273       6          1781           0.000010   \n",
       "3   119.40  0.000000       0.000000       9          1859           2.226567   \n",
       "4   114.45  1.010002       0.896982      10          2070           2.253911   \n",
       "..     ...       ...            ...     ...           ...                ...   \n",
       "62    0.01  0.000000       0.000000       3           890           0.781252   \n",
       "63    0.01  0.000000       0.000000      10          1553           0.812502   \n",
       "64    0.01  0.000000       0.000000       1         28296           0.859376   \n",
       "65    0.01  0.000000       0.000000      11          3310           0.906251   \n",
       "66    0.01  0.000000       0.000000       2         14364           0.968750   \n",
       "\n",
       "    inTheMoney contractSize currency  \n",
       "0         True      REGULAR      USD  \n",
       "1         True      REGULAR      USD  \n",
       "2         True      REGULAR      USD  \n",
       "3         True      REGULAR      USD  \n",
       "4         True      REGULAR      USD  \n",
       "..         ...          ...      ...  \n",
       "62       False      REGULAR      USD  \n",
       "63       False      REGULAR      USD  \n",
       "64       False      REGULAR      USD  \n",
       "65       False      REGULAR      USD  \n",
       "66       False      REGULAR      USD  \n",
       "\n",
       "[67 rows x 14 columns], puts=         contractSymbol             lastTradeDate  strike  lastPrice    bid  \\\n",
       "0   AAPL240119P00050000 2024-01-04 19:54:36+00:00    50.0       0.01    0.0   \n",
       "1   AAPL240119P00055000 2023-12-01 16:46:43+00:00    55.0       0.01    0.0   \n",
       "2   AAPL240119P00060000 2024-01-02 19:11:50+00:00    60.0       0.01    0.0   \n",
       "3   AAPL240119P00065000 2023-12-28 18:42:15+00:00    65.0       0.01    0.0   \n",
       "4   AAPL240119P00070000 2024-01-03 18:16:58+00:00    70.0       0.01    0.0   \n",
       "..                  ...                       ...     ...        ...    ...   \n",
       "58  AAPL240119P00285000 2023-07-31 18:14:59+00:00   285.0      89.06   95.8   \n",
       "59  AAPL240119P00290000 2023-12-27 20:58:53+00:00   290.0      96.97  105.8   \n",
       "60  AAPL240119P00300000 2024-01-09 14:39:27+00:00   300.0     116.60  115.8   \n",
       "61  AAPL240119P00310000 2024-01-03 20:59:41+00:00   310.0     125.67  125.8   \n",
       "62  AAPL240119P00320000 2023-12-26 14:31:06+00:00   320.0     126.30  135.8   \n",
       "\n",
       "       ask    change  percentChange  volume  openInterest  impliedVolatility  \\\n",
       "0     0.01  0.000000       0.000000       2         41466           2.250004   \n",
       "1     0.01  0.000000       0.000000       1          7917           2.125005   \n",
       "2     0.01  0.000000       0.000000    1274         10121           1.968750   \n",
       "3     0.01  0.000000       0.000000       1          2923           1.812501   \n",
       "4     0.01  0.000000       0.000000       6          6049           1.687502   \n",
       "..     ...       ...            ...     ...           ...                ...   \n",
       "58   99.20  0.000000       0.000000       3             0           0.000010   \n",
       "59  106.00  0.000000       0.000000       1             0           1.203129   \n",
       "60  116.00  9.169998       8.535789       1             0           1.277347   \n",
       "61  126.00  0.000000       0.000000       1             0           1.347660   \n",
       "62  136.00  0.000000       0.000000      10             0           1.416019   \n",
       "\n",
       "    inTheMoney contractSize currency  \n",
       "0        False      REGULAR      USD  \n",
       "1        False      REGULAR      USD  \n",
       "2        False      REGULAR      USD  \n",
       "3        False      REGULAR      USD  \n",
       "4        False      REGULAR      USD  \n",
       "..         ...          ...      ...  \n",
       "58        True      REGULAR      USD  \n",
       "59        True      REGULAR      USD  \n",
       "60        True      REGULAR      USD  \n",
       "61        True      REGULAR      USD  \n",
       "62        True      REGULAR      USD  \n",
       "\n",
       "[63 rows x 14 columns], underlying={'language': 'en-US', 'region': 'US', 'quoteType': 'EQUITY', 'typeDisp': 'Equity', 'quoteSourceName': 'Nasdaq Real Time Price', 'triggerable': True, 'customPriceAlertConfidence': 'HIGH', 'currency': 'USD', 'marketState': 'REGULAR', 'regularMarketChangePercent': -0.64938664, 'regularMarketPrice': 184.355, 'exchange': 'NMS', 'shortName': 'Apple Inc.', 'longName': 'Apple Inc.', 'messageBoardId': 'finmb_24937', 'exchangeTimezoneName': 'America/New_York', 'exchangeTimezoneShortName': 'EST', 'gmtOffSetMilliseconds': -18000000, 'market': 'us_market', 'esgPopulated': False, 'firstTradeDateMilliseconds': 345479400000, 'priceHint': 2, 'regularMarketChange': -1.2050018, 'regularMarketTime': 1704818180, 'regularMarketDayHigh': 184.445, 'regularMarketDayRange': '182.73 - 184.445', 'regularMarketDayLow': 182.73, 'regularMarketVolume': 15886783, 'regularMarketPreviousClose': 185.56, 'bid': 184.04, 'ask': 184.1, 'bidSize': 10, 'askSize': 8, 'fullExchangeName': 'NasdaqGS', 'financialCurrency': 'USD', 'regularMarketOpen': 183.92, 'averageDailyVolume3Month': 54297359, 'averageDailyVolume10Day': 52508650, 'fiftyTwoWeekLowChange': 56.235, 'fiftyTwoWeekLowChangePercent': 0.43892446, 'fiftyTwoWeekRange': '128.12 - 199.62', 'fiftyTwoWeekHighChange': -15.264999, 'fiftyTwoWeekHighChangePercent': -0.07647029, 'fiftyTwoWeekLow': 128.12, 'fiftyTwoWeekHigh': 199.62, 'fiftyTwoWeekChangePercent': 41.941406, 'dividendDate': 1700092800, 'earningsTimestamp': 1698958800, 'earningsTimestampStart': 1706698740, 'earningsTimestampEnd': 1707134400, 'trailingAnnualDividendRate': 0.94, 'trailingPE': 30.123365, 'dividendRate': 0.96, 'trailingAnnualDividendYield': 0.005065747, 'dividendYield': 0.52, 'epsTrailingTwelveMonths': 6.12, 'epsForward': 7.15, 'epsCurrentYear': 6.59, 'priceEpsCurrentYear': 27.97496, 'sharesOutstanding': 15552799744, 'bookValue': 3.997, 'fiftyDayAverage': 187.687, 'fiftyDayAverageChange': -3.3320007, 'fiftyDayAverageChangePercent': -0.017752966, 'twoHundredDayAverage': 180.1538, 'twoHundredDayAverageChange': 4.2012024, 'twoHundredDayAverageChangePercent': 0.023320088, 'marketCap': 2867236438016, 'forwardPE': 25.783915, 'priceToBook': 46.12334, 'sourceInterval': 15, 'exchangeDataDelayedBy': 0, 'averageAnalystRating': '2.2 - Buy', 'tradeable': False, 'cryptoTradeable': False, 'displayName': 'Apple', 'symbol': 'AAPL'})"
      ]
     },
     "execution_count": 3,
     "metadata": {},
     "output_type": "execute_result"
    }
   ],
   "source": [
    "# Replace '2024-01-19' with the desired expiration date\n",
    "expiration_date = '2024-01-19'\n",
    "\n",
    "# Get the option chain data for the specified symbol and expiration date\n",
    "option_chain = yf.Ticker(symbol).option_chain(expiration_date)\n",
    "\n",
    "# Print the option chain data\n",
    "option_chain\n"
   ]
  }
 ],
 "metadata": {
  "kernelspec": {
   "display_name": "quant",
   "language": "python",
   "name": "python3"
  },
  "language_info": {
   "codemirror_mode": {
    "name": "ipython",
    "version": 3
   },
   "file_extension": ".py",
   "mimetype": "text/x-python",
   "name": "python",
   "nbconvert_exporter": "python",
   "pygments_lexer": "ipython3",
   "version": "3.9.18"
  }
 },
 "nbformat": 4,
 "nbformat_minor": 2
}
