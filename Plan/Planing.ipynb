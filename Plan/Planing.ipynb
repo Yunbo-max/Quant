{
 "cells": [
  {
   "cell_type": "markdown",
   "metadata": {},
   "source": [
    "# Green Book\n",
    "# English teaching\n",
    "https://www.bilibili.com/video/BV1BP411y7dH/?spm_id_from=333.788&vd_source=5cefb9a4615db0e7d2aa1dbc5c7866e4\n",
    "\n",
    "\n",
    "# Notes\n",
    "https://vktznjam9y.feishu.cn/wiki/G7QvwncNQiOPEFk80mrc6vb2n8c\n",
    "\n",
    "# Exam example\n",
    "https://www.bilibili.com/video/BV1H54y137Mn/?spm_id_from=333.999.0.0&vd_source=5cefb9a4615db0e7d2aa1dbc5c7866e4\n",
    "\n",
    "https://space.bilibili.com/448559999/video?tid=0&pn=2&keyword=&order=pubdate\n",
    "\n",
    "https://space.bilibili.com/509150708/video\n",
    "\n"
   ]
  },
  {
   "cell_type": "markdown",
   "metadata": {},
   "source": [
    "# MAX DAMA\n",
    "http://isomorphisms.sdf.org/maxdama.pdf"
   ]
  }
 ],
 "metadata": {
  "language_info": {
   "name": "python"
  }
 },
 "nbformat": 4,
 "nbformat_minor": 2
}
