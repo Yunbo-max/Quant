{
 "cells": [
  {
   "cell_type": "code",
   "execution_count": 7,
   "metadata": {},
   "outputs": [
    {
     "name": "stdout",
     "output_type": "stream",
     "text": [
      "97\n"
     ]
    }
   ],
   "source": [
    "print(ord('a'))\n",
    "s1 = 'yunbo'\n",
    "pos = ord(s1[0]) - ord('a')"
   ]
  },
  {
   "cell_type": "code",
   "execution_count": 15,
   "metadata": {},
   "outputs": [
    {
     "name": "stdout",
     "output_type": "stream",
     "text": [
      "True\n"
     ]
    }
   ],
   "source": [
    "def anagram_solution(s1,s2):\n",
    "\n",
    "    C1 = [0]*26\n",
    "    C2 = [0]*26\n",
    "\n",
    "\n",
    "    for i in range(len(s1)):\n",
    "        pos = ord(s1[i]) - ord('a')\n",
    "        C1[pos] += 1\n",
    "    \n",
    "    for j in range(len(s2)):\n",
    "        pos = ord(s2[j]) - ord('a')\n",
    "        C2[pos] += 1\n",
    "    \n",
    "    status = True\n",
    "    k =0\n",
    "    while k <= 25 and status:\n",
    "        if C1[k]!=C2[k]:\n",
    "            status = False\n",
    "        \n",
    "        k +=1\n",
    "    \n",
    "    return status\n",
    "\n",
    "print(anagram_solution('yunbo','obnuy'))\n",
    "\n"
   ]
  }
 ],
 "metadata": {
  "kernelspec": {
   "display_name": "Python 3",
   "language": "python",
   "name": "python3"
  },
  "language_info": {
   "codemirror_mode": {
    "name": "ipython",
    "version": 3
   },
   "file_extension": ".py",
   "mimetype": "text/x-python",
   "name": "python",
   "nbconvert_exporter": "python",
   "pygments_lexer": "ipython3",
   "version": "3.9.6"
  }
 },
 "nbformat": 4,
 "nbformat_minor": 2
}
