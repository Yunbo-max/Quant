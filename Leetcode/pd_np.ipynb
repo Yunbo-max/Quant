{
 "cells": [
  {
   "cell_type": "code",
   "execution_count": 46,
   "metadata": {},
   "outputs": [
    {
     "name": "stdout",
     "output_type": "stream",
     "text": [
      "       A    B    C\n",
      "long   3  1.0  NaN\n",
      "yunbo  2  NaN  2.0\n",
      "bobo   3  3.0  4.0\n",
      "      A    B    C\n",
      "bobo  3  3.0  4.0\n",
      "       A      B      C\n",
      "long   3    1.0  100.0\n",
      "yunbo  2  100.0    2.0\n",
      "bobo   3    3.0    4.0\n",
      "       A    B    C\n",
      "long   3  1.0  NaN\n",
      "yunbo  2  2.0  2.0\n",
      "bobo   3  3.0  4.0\n",
      "           A      B      C\n",
      "long   False  False   True\n",
      "yunbo  False   True  False\n",
      "bobo   False  False  False\n"
     ]
    }
   ],
   "source": [
    "import pandas as pd\n",
    "import numpy as np\n",
    "\n",
    "data =  {'A':[3,2,3],'B':[1,np.nan ,3],'C':[ np.nan,2,4]}\n",
    "df = pd.DataFrame(data,index=['long','yunbo','bobo'])\n",
    "\n",
    "\n",
    "print(df)\n",
    "filtered_data = df[df['A']>1]\n",
    "df1=df.dropna(axis=0,how='any')\n",
    "df2=df.fillna(100)\n",
    "df3=df.interpolate(method='linear')\n",
    "df4=df.isna()\n",
    "\n",
    "\n",
    "print(df1)\n",
    "print(df2)\n",
    "print(df3)\n",
    "print(df4)\n",
    "# print(filtered_data)\n",
    "\n",
    "print(df2.cov())\n"
   ]
  },
  {
   "cell_type": "code",
   "execution_count": 60,
   "metadata": {},
   "outputs": [
    {
     "name": "stdout",
     "output_type": "stream",
     "text": [
      "       A      B      C\n",
      "long   3    1.0  100.0\n",
      "yunbo  2  100.0    2.0\n",
      "bobo   3    3.0    4.0\n"
     ]
    },
    {
     "ename": "KeyError",
     "evalue": "(0, 1)",
     "output_type": "error",
     "traceback": [
      "\u001b[0;31m---------------------------------------------------------------------------\u001b[0m",
      "\u001b[0;31mKeyError\u001b[0m                                  Traceback (most recent call last)",
      "File \u001b[0;32m~/anaconda3/envs/Cambridge/lib/python3.10/site-packages/pandas/core/indexes/base.py:3653\u001b[0m, in \u001b[0;36mIndex.get_loc\u001b[0;34m(self, key)\u001b[0m\n\u001b[1;32m   3652\u001b[0m \u001b[39mtry\u001b[39;00m:\n\u001b[0;32m-> 3653\u001b[0m     \u001b[39mreturn\u001b[39;00m \u001b[39mself\u001b[39;49m\u001b[39m.\u001b[39;49m_engine\u001b[39m.\u001b[39;49mget_loc(casted_key)\n\u001b[1;32m   3654\u001b[0m \u001b[39mexcept\u001b[39;00m \u001b[39mKeyError\u001b[39;00m \u001b[39mas\u001b[39;00m err:\n",
      "File \u001b[0;32m~/anaconda3/envs/Cambridge/lib/python3.10/site-packages/pandas/_libs/index.pyx:147\u001b[0m, in \u001b[0;36mpandas._libs.index.IndexEngine.get_loc\u001b[0;34m()\u001b[0m\n",
      "File \u001b[0;32m~/anaconda3/envs/Cambridge/lib/python3.10/site-packages/pandas/_libs/index.pyx:176\u001b[0m, in \u001b[0;36mpandas._libs.index.IndexEngine.get_loc\u001b[0;34m()\u001b[0m\n",
      "File \u001b[0;32mpandas/_libs/hashtable_class_helper.pxi:7080\u001b[0m, in \u001b[0;36mpandas._libs.hashtable.PyObjectHashTable.get_item\u001b[0;34m()\u001b[0m\n",
      "File \u001b[0;32mpandas/_libs/hashtable_class_helper.pxi:7088\u001b[0m, in \u001b[0;36mpandas._libs.hashtable.PyObjectHashTable.get_item\u001b[0;34m()\u001b[0m\n",
      "\u001b[0;31mKeyError\u001b[0m: (0, 1)",
      "\nThe above exception was the direct cause of the following exception:\n",
      "\u001b[0;31mKeyError\u001b[0m                                  Traceback (most recent call last)",
      "\u001b[1;32mUntitled-1.ipynb Cell 2\u001b[0m line \u001b[0;36m3\n\u001b[1;32m      <a href='vscode-notebook-cell:Untitled-1.ipynb?jupyter-notebook#W1sdW50aXRsZWQ%3D?line=0'>1</a>\u001b[0m \u001b[39mprint\u001b[39m(df2)\n\u001b[1;32m      <a href='vscode-notebook-cell:Untitled-1.ipynb?jupyter-notebook#W1sdW50aXRsZWQ%3D?line=1'>2</a>\u001b[0m \u001b[39m# print(df2.corr())\u001b[39;00m\n\u001b[0;32m----> <a href='vscode-notebook-cell:Untitled-1.ipynb?jupyter-notebook#W1sdW50aXRsZWQ%3D?line=2'>3</a>\u001b[0m \u001b[39mprint\u001b[39m(df2\u001b[39m.\u001b[39;49mcov()[\u001b[39m0\u001b[39;49m,\u001b[39m1\u001b[39;49m])\n\u001b[1;32m      <a href='vscode-notebook-cell:Untitled-1.ipynb?jupyter-notebook#W1sdW50aXRsZWQ%3D?line=5'>6</a>\u001b[0m \u001b[39mprint\u001b[39m(df\u001b[39m.\u001b[39mquantile(\u001b[39m0.25\u001b[39m))\n\u001b[1;32m      <a href='vscode-notebook-cell:Untitled-1.ipynb?jupyter-notebook#W1sdW50aXRsZWQ%3D?line=7'>8</a>\u001b[0m \u001b[39mprint\u001b[39m(df2\u001b[39m.\u001b[39mcount())\n",
      "File \u001b[0;32m~/anaconda3/envs/Cambridge/lib/python3.10/site-packages/pandas/core/frame.py:3761\u001b[0m, in \u001b[0;36mDataFrame.__getitem__\u001b[0;34m(self, key)\u001b[0m\n\u001b[1;32m   3759\u001b[0m \u001b[39mif\u001b[39;00m \u001b[39mself\u001b[39m\u001b[39m.\u001b[39mcolumns\u001b[39m.\u001b[39mnlevels \u001b[39m>\u001b[39m \u001b[39m1\u001b[39m:\n\u001b[1;32m   3760\u001b[0m     \u001b[39mreturn\u001b[39;00m \u001b[39mself\u001b[39m\u001b[39m.\u001b[39m_getitem_multilevel(key)\n\u001b[0;32m-> 3761\u001b[0m indexer \u001b[39m=\u001b[39m \u001b[39mself\u001b[39;49m\u001b[39m.\u001b[39;49mcolumns\u001b[39m.\u001b[39;49mget_loc(key)\n\u001b[1;32m   3762\u001b[0m \u001b[39mif\u001b[39;00m is_integer(indexer):\n\u001b[1;32m   3763\u001b[0m     indexer \u001b[39m=\u001b[39m [indexer]\n",
      "File \u001b[0;32m~/anaconda3/envs/Cambridge/lib/python3.10/site-packages/pandas/core/indexes/base.py:3655\u001b[0m, in \u001b[0;36mIndex.get_loc\u001b[0;34m(self, key)\u001b[0m\n\u001b[1;32m   3653\u001b[0m     \u001b[39mreturn\u001b[39;00m \u001b[39mself\u001b[39m\u001b[39m.\u001b[39m_engine\u001b[39m.\u001b[39mget_loc(casted_key)\n\u001b[1;32m   3654\u001b[0m \u001b[39mexcept\u001b[39;00m \u001b[39mKeyError\u001b[39;00m \u001b[39mas\u001b[39;00m err:\n\u001b[0;32m-> 3655\u001b[0m     \u001b[39mraise\u001b[39;00m \u001b[39mKeyError\u001b[39;00m(key) \u001b[39mfrom\u001b[39;00m \u001b[39merr\u001b[39;00m\n\u001b[1;32m   3656\u001b[0m \u001b[39mexcept\u001b[39;00m \u001b[39mTypeError\u001b[39;00m:\n\u001b[1;32m   3657\u001b[0m     \u001b[39m# If we have a listlike key, _check_indexing_error will raise\u001b[39;00m\n\u001b[1;32m   3658\u001b[0m     \u001b[39m#  InvalidIndexError. Otherwise we fall through and re-raise\u001b[39;00m\n\u001b[1;32m   3659\u001b[0m     \u001b[39m#  the TypeError.\u001b[39;00m\n\u001b[1;32m   3660\u001b[0m     \u001b[39mself\u001b[39m\u001b[39m.\u001b[39m_check_indexing_error(key)\n",
      "\u001b[0;31mKeyError\u001b[0m: (0, 1)"
     ]
    }
   ],
   "source": [
    "print(df2)\n",
    "# print(df2.corr())\n",
    "print(df2.cov())\n",
    "\n",
    "\n",
    "print(df.quantile(0.25))\n",
    "\n",
    "print(df2.count())\n",
    "print('\\n')\n",
    "print(df2['A'].value_counts())\n",
    "\n",
    "\n",
    "# print(df)\n",
    "# print(df.isna())"
   ]
  },
  {
   "cell_type": "code",
   "execution_count": 58,
   "metadata": {},
   "outputs": [
    {
     "name": "stdout",
     "output_type": "stream",
     "text": [
      "Covariance: [[ 5.3  16.25]\n",
      " [16.25 62.5 ]]\n"
     ]
    }
   ],
   "source": [
    "import numpy as np\n",
    "\n",
    "X = np.array([3, 5, 2, 8, 4])\n",
    "Y = np.array([80, 85, 70, 90, 75])\n",
    "\n",
    "covariance = np.cov(X, Y)\n",
    "print(\"Covariance:\", covariance)"
   ]
  },
  {
   "cell_type": "code",
   "execution_count": 61,
   "metadata": {},
   "outputs": [
    {
     "name": "stdout",
     "output_type": "stream",
     "text": [
      "Covariance Matrix:\n",
      "      X     Y     Z\n",
      "X  9.30  -9.5  4.75\n",
      "Y -9.50  10.0 -5.00\n",
      "Z  4.75  -5.0  2.50\n",
      "\n",
      "Correlation Matrix:\n",
      "          X         Y         Z\n",
      "X  1.000000 -0.985104  0.985104\n",
      "Y -0.985104  1.000000 -1.000000\n",
      "Z  0.985104 -1.000000  1.000000\n"
     ]
    }
   ],
   "source": [
    "import pandas as pd\n",
    "import numpy as np\n",
    "\n",
    "# Create a sample dataset\n",
    "data = {\n",
    "    'X': [2, 4, 5, 7, 10],\n",
    "    'Y': [10, 8, 6, 4, 2],\n",
    "    'Z': [1, 2, 3, 4, 5],\n",
    "}\n",
    "\n",
    "df = pd.DataFrame(data)\n",
    "\n",
    "# Calculate the covariance matrix\n",
    "cov_matrix = df.cov()\n",
    "print(\"Covariance Matrix:\")\n",
    "print(cov_matrix)\n",
    "\n",
    "# Calculate the correlation matrix\n",
    "corr_matrix = df.corr()\n",
    "print(\"\\nCorrelation Matrix:\")\n",
    "print(corr_matrix)\n"
   ]
  },
  {
   "cell_type": "code",
   "execution_count": 62,
   "metadata": {},
   "outputs": [
    {
     "name": "stdout",
     "output_type": "stream",
     "text": [
      "Fold 1 MSE: 0.8412877090734991\n",
      "Fold 2 MSE: 0.6797232536799233\n",
      "Fold 3 MSE: 0.6956172663496654\n",
      "Fold 4 MSE: 1.6299110567078565\n",
      "Fold 5 MSE: 1.47968468675112\n",
      "Mean MSE: 1.0652447945124128\n"
     ]
    }
   ],
   "source": [
    "import numpy as np\n",
    "from sklearn.model_selection import cross_val_score\n",
    "from sklearn.linear_model import LinearRegression\n",
    "\n",
    "# Generate synthetic data\n",
    "X = np.random.rand(100, 1)\n",
    "y = 2 * X + 1 + np.random.randn(100, 1)\n",
    "\n",
    "# Create a linear regression model\n",
    "model = LinearRegression()\n",
    "\n",
    "# Perform 5-fold cross-validation\n",
    "scores = cross_val_score(model, X, y, cv=5, scoring='neg_mean_squared_error')\n",
    "\n",
    "# Calculate the mean squared error for each fold\n",
    "mse_scores = -scores\n",
    "\n",
    "# Print the MSE scores for each fold\n",
    "for fold, mse in enumerate(mse_scores):\n",
    "    print(f\"Fold {fold + 1} MSE: {mse}\")\n",
    "\n",
    "# Calculate the mean MSE across all folds\n",
    "mean_mse = np.mean(mse_scores)\n",
    "print(f\"Mean MSE: {mean_mse}\")\n",
    "\n",
    "\n"
   ]
  },
  {
   "cell_type": "code",
   "execution_count": 77,
   "metadata": {},
   "outputs": [
    {
     "name": "stdout",
     "output_type": "stream",
     "text": [
      "Feature 1 Importance: 0.16555070337192876\n",
      "Feature 2 Importance: 0.3872659914750501\n",
      "Feature 3 Importance: 0.06403358174323233\n",
      "Feature 4 Importance: 0.0445205780962142\n",
      "Feature 5 Importance: 0.030632743879461077\n",
      "Feature 6 Importance: 0.053304436441607435\n",
      "Feature 7 Importance: 0.06065668458796919\n",
      "Feature 8 Importance: 0.06558900787307707\n",
      "Feature 9 Importance: 0.047536281924521424\n",
      "Feature 10 Importance: 0.08090999060693851\n"
     ]
    }
   ],
   "source": [
    "import numpy as np\n",
    "from sklearn.ensemble import RandomForestRegressor\n",
    "\n",
    "# Generate synthetic data\n",
    "X = np.random.rand(100, 10)\n",
    "y = 2 * X[:, 0] + 3 * X[:, 1] + np.random.randn(100)\n",
    "\n",
    "# Create a random forest regression model\n",
    "model = RandomForestRegressor(n_estimators=100)\n",
    "\n",
    "# Fit the model to the data\n",
    "model.fit(X, y)\n",
    "\n",
    "# Get feature importances\n",
    "feature_importances = model.feature_importances_\n",
    "\n",
    "# Print feature importances\n",
    "for i, importance in enumerate(feature_importances):\n",
    "    print(f\"Feature {i+1} Importance: {importance}\")\n"
   ]
  }
 ],
 "metadata": {
  "kernelspec": {
   "display_name": "Cambridge",
   "language": "python",
   "name": "python3"
  },
  "language_info": {
   "codemirror_mode": {
    "name": "ipython",
    "version": 3
   },
   "file_extension": ".py",
   "mimetype": "text/x-python",
   "name": "python",
   "nbconvert_exporter": "python",
   "pygments_lexer": "ipython3",
   "version": "3.10.13"
  }
 },
 "nbformat": 4,
 "nbformat_minor": 2
}
