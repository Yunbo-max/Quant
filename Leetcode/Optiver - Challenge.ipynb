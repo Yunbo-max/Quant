{
 "cells": [
  {
   "cell_type": "code",
   "execution_count": 2,
   "id": "8089db8a",
   "metadata": {},
   "outputs": [],
   "source": [
    "import numpy as np\n",
    "from abc import ABC, abstractmethod\n",
    "from progressbar import ProgressBar"
   ]
  },
  {
   "cell_type": "markdown",
   "id": "c85e1ef4",
   "metadata": {},
   "source": [
    "# The goal of this notebook\n",
    "Here are my solutions for the Optiver challenge regarding the amount of time it would take an ant to encounter food in various scenarios. Specifically, the question states:\n",
    "\n",
    ">An ant leaves its anthill in order to forage for food. It moves with the speed of 10 cm per second, but it doesn't know where to go, therefore every second it moves randomly 10 cm directly north, south, east or west with equal probability.\n",
    "\n",
    "To solve the various subquestions, we first define a `base_ant_random_walk` class, which we will use as a foundation for the various wandering ant scenarios (such as encoding the wandering behavior).\n"
   ]
  },
  {
   "cell_type": "code",
   "execution_count": 10,
   "id": "3bf4b9a0",
   "metadata": {},
   "outputs": [],
   "source": [
    "class base_ant_random_walk(ABC):\n",
    "    def __init__(self, ant_number=100000, start_x=0.0, start_y=0.0, dt=1, v0=10):\n",
    "        self.ant_number = ant_number                           # Number of ants we release\n",
    "        self.start_x, self.start_y = start_x, start_y          # starting x and y coordinate\n",
    "        self.xy_positions = self.initialize_position_array()   # initialized array of particle positions\n",
    "        self.time = self.initialize_time_array()               # initialized array of particle time\n",
    "        self.dt = dt                                           # integration timestep (seconds)\n",
    "        self.v0 = v0                                           # walk speek (cm / s)\n",
    "        \n",
    "    def initialize_position_array(self):\n",
    "        # Initializing the array in which we store the ants' x and y positions\n",
    "        xy_positions = np.zeros(shape=(self.ant_number, 2))\n",
    "        xy_positions[:, 0] = self.start_x\n",
    "        xy_positions[:, 1] = self.start_y\n",
    "        \n",
    "        return xy_positions\n",
    "    \n",
    "    def initialize_time_array(self):\n",
    "        return np.zeros(shape=(self.ant_number))\n",
    "        \n",
    "    def random_walk(self, xy_positions):\n",
    "        # Generate an array with random integers between 0 - 3 which will set the direction of the random walks\n",
    "        walk_direction = np.random.randint(low=0, high=4, size=self.ant_number)\n",
    "        \n",
    "        # If walk_direction == 0, move north by v0 * dt\n",
    "        north = np.where(walk_direction == 0)[0]\n",
    "        xy_positions[north, 1] += self.dt * self.v0\n",
    "        # if walk_direction == 1, move south by v0 * dt\n",
    "        south = np.where(walk_direction == 1)[0]\n",
    "        xy_positions[south, 1] -= self.dt * self.v0\n",
    "        # if walk_direction == 2, move east by v0 * dt\n",
    "        east = np.where(walk_direction == 2)[0]\n",
    "        xy_positions[east, 0] += self.dt * self.v0\n",
    "        # if walk_direction == 3, move west by v0 * dt\n",
    "        west = np.where(walk_direction == 3)[0]\n",
    "        xy_positions[west, 0] -= self.dt * self.v0\n",
    "        \n",
    "        return xy_positions\n",
    "    \n",
    "    def calculate_walk(self, steps):\n",
    "        for i in ProgressBar()(range(steps)):\n",
    "            # Calculate the random walk procedure\n",
    "            self.xy_positions = self.random_walk(self.xy_positions)\n",
    "            # Update the time tracker of each ant\n",
    "            self.time[~np.isnan(self.xy_positions[:, 0])] += 1\n",
    "            # Set to np.nan all particles that are at or have crossed the boundary condition\n",
    "            at_boundary = self.boundary_condition()\n",
    "            self.xy_positions[at_boundary, :] = np.nan\n",
    "            \n",
    "        return self.xy_positions, self.time\n",
    "\n",
    "    @abstractmethod\n",
    "    def boundary_condition(self):\n",
    "        # Define the specific condition when the ant encounters food\n",
    "        pass\n",
    "    \n",
    "    def mean_travel_time(self, steps=10000):\n",
    "        self.xy_positions, self.time = self.calculate_walk(steps=steps)\n",
    "        # Determine the particles that are at the food\n",
    "        at_food = np.isnan(self.xy_positions[:, 0])\n",
    "        # Calculate the mean time\n",
    "        mean_time = self.time[at_food].mean()\n",
    "        std_time = self.time[at_food].std()\n",
    "        error_time = std_time / np.sqrt(np.sum(at_food))\n",
    "        \n",
    "        # Calculate the number of ants that have reached the food\n",
    "        at_food_percentage = np.sum(at_food) / self.ant_number * 100\n",
    "        \n",
    "        str_format = steps, mean_time, error_time\n",
    "        print('After {} seconds, it takes the ant {:.2f}±{:.2f} seconds to encounter food.'.format(*str_format))\n",
    "        print('In this time, {:.2f}% of ants have reached the food.\\n'.format(at_food_percentage))  "
   ]
  },
  {
   "cell_type": "markdown",
   "id": "87285d76",
   "metadata": {},
   "source": [
    "# Question 1\n",
    "The first question states:\n",
    "> If the food is located on east-west lines 20 cm to the north and 20 cm to the south, as well as on north-south lines 20 cm to the east and 20 cm to the west from the anthill, how long will it take the ant to reach it on average?\n",
    "\n",
    "We have already prescribed the random walk behavior in `base_ant_random_walk`, so to solve this question numerically we just need to specify the boundary condition. If $|x| \\geq 20$ or $|y| \\geq20$, the ant will have reached or crossed the boundaries, and therefore reached the food."
   ]
  },
  {
   "cell_type": "code",
   "execution_count": 7,
   "id": "e24c347d",
   "metadata": {},
   "outputs": [
    {
     "name": "stderr",
     "output_type": "stream",
     "text": [
      "100% |########################################################################|\n"
     ]
    },
    {
     "name": "stdout",
     "output_type": "stream",
     "text": [
      "After 1000 seconds, it takes the ant 4.49±0.01 seconds to encounter food.\n",
      "In this time, 100.00% of ants have reached the food.\n",
      "\n"
     ]
    }
   ],
   "source": [
    "class ant_random_walk_question_1(base_ant_random_walk):\n",
    "    def __init__(self):\n",
    "        super().__init__()\n",
    "        \n",
    "    def boundary_condition(self):\n",
    "        # if either the absolute x or y position is >= 20, then the ant has reached food\n",
    "        boundary = (np.abs(self.xy_positions[:, 0]) >= 20) | (np.abs(self.xy_positions[:, 1]) >= 20)\n",
    "        return boundary\n",
    "        \n",
    "ant_random_walk_question_1().mean_travel_time()"
   ]
  },
  {
   "cell_type": "markdown",
   "id": "89e7a709",
   "metadata": {},
   "source": [
    "# Question 2\n",
    "The second question states:\n",
    "> What is the average time the ant will reach food if it is located only on a diagonal line passing through (10cm, 0cm) and (0cm, 10cm) points?\n",
    "\n",
    "The boundary condition for this question is that the food is found at `x + y = 10`, which we can easily encode in the `boundary_condition` function."
   ]
  },
  {
   "cell_type": "code",
   "execution_count": 8,
   "id": "28b10fff",
   "metadata": {},
   "outputs": [
    {
     "name": "stderr",
     "output_type": "stream",
     "text": [
      "100% |########################################################################|\n",
      "  7% |#####                                                                   |\r"
     ]
    },
    {
     "name": "stdout",
     "output_type": "stream",
     "text": [
      "After 100 seconds, it takes the ant 7.58±0.05 seconds to encounter food.\n",
      "In this time, 92.10% of ants have reached the food.\n",
      "\n"
     ]
    },
    {
     "name": "stderr",
     "output_type": "stream",
     "text": [
      "100% |########################################################################|\n",
      "  0% |                                                                        |\r"
     ]
    },
    {
     "name": "stdout",
     "output_type": "stream",
     "text": [
      "After 1000 seconds, it takes the ant 25.12±0.29 seconds to encounter food.\n",
      "In this time, 97.43% of ants have reached the food.\n",
      "\n"
     ]
    },
    {
     "name": "stderr",
     "output_type": "stream",
     "text": [
      "100% |########################################################################|\r"
     ]
    },
    {
     "name": "stdout",
     "output_type": "stream",
     "text": [
      "After 10000 seconds, it takes the ant 78.62±1.61 seconds to encounter food.\n",
      "In this time, 99.21% of ants have reached the food.\n",
      "\n"
     ]
    },
    {
     "name": "stderr",
     "output_type": "stream",
     "text": [
      "\n"
     ]
    }
   ],
   "source": [
    "class ant_random_walk_question_2(base_ant_random_walk):\n",
    "    def __init__(self):\n",
    "        super().__init__()\n",
    "        \n",
    "    def boundary_condition(self):\n",
    "        boundary = np.nansum(self.xy_positions, axis=1) == 10\n",
    "        return boundary\n",
    "        \n",
    "ant_random_walk_question_2().mean_travel_time(steps=100)\n",
    "ant_random_walk_question_2().mean_travel_time(steps=1000)\n",
    "ant_random_walk_question_2().mean_travel_time(steps=10000)"
   ]
  },
  {
   "cell_type": "markdown",
   "id": "59a28372",
   "metadata": {},
   "source": [
    "Since we are not dealing with a closed boundary, the average time for the ant to reach the food is infinite. We can see this from the mean values if we give the ants more time to reach the food, as these don't converge to a single value (with the standard error also constantly increasing). However, we can get an indication of how likely an ant is to find the food within a certain time period. For example, within a time period of 10000 seconds (close to 3 hours), the ant has a 99.17% chance of encountaring food, taking on average 78.17±1.58 seconds. Depending on what question you are trying to answer about the ant, this can still be useful information."
   ]
  },
  {
   "cell_type": "markdown",
   "id": "65009777",
   "metadata": {},
   "source": [
    "# Question 3\n",
    "The final question comes in two parts, where the first asks:\n",
    "> Can you write a program that comes up with an estimate of average time to find food for any closed boundary around the anthill? \n",
    "\n",
    "In the current form of the code this is already achieved, as in principle any closed boundary can be specified around the anthill through the `boundary_condition` function in `base_ant_random_walk`. Therefore, we shall now proceed to the second part, which asks:\n",
    "\n",
    ">What would be the answer if food is located outside an defined by ( (x – 2.5cm) / 30cm )2 + ( (y – 2.5cm) / 40cm )2 < 1 in coordinate system where the anthill is located at (x = 0cm, y = 0cm)? Provide us with a solution rounded to the nearest integer.\n",
    "\n",
    "The notation is not entirely clear, but we will assume that the boundary indicates a elipse centered at (0, 0) following the following equation:\n",
    "\n",
    "$\\big((x - 2.5) / 30\\big)^2 + \\big((x - 2.5) / 40\\big)^2 < 1$\n"
   ]
  },
  {
   "cell_type": "code",
   "execution_count": 11,
   "id": "2bfbf110",
   "metadata": {},
   "outputs": [
    {
     "name": "stderr",
     "output_type": "stream",
     "text": [
      "100% |########################################################################|\r"
     ]
    },
    {
     "name": "stdout",
     "output_type": "stream",
     "text": [
      "After 10000 seconds, it takes the ant 14.00±0.03 seconds to encounter food.\n",
      "In this time, 100.00% of ants have reached the food.\n",
      "\n"
     ]
    },
    {
     "name": "stderr",
     "output_type": "stream",
     "text": [
      "\n"
     ]
    }
   ],
   "source": [
    "class ant_random_walk_question_3(base_ant_random_walk):\n",
    "    def __init__(self):\n",
    "        super().__init__()\n",
    "        \n",
    "    def boundary_condition(self):\n",
    "        boundary = np.square((self.xy_positions[:, 0] - 2.5) / 30) + np.square((self.xy_positions[:, 1] - 2.5) / 40) >= 1\n",
    "        return boundary\n",
    "        \n",
    "ant_random_walk_question_3().mean_travel_time()"
   ]
  },
  {
   "cell_type": "markdown",
   "id": "401c6a5d",
   "metadata": {},
   "source": [
    "As shown above, it takes an ant around 14 seconds to reach food within this closed boundary, and we can easily calculate this for any other closed boundary. As was shown for question 2, the code also works for an open boundary, but then instead of giving the mean time for the ant to reach the food, it can give the probability the ant will reach food within a given time period."
   ]
  }
 ],
 "metadata": {
  "kernelspec": {
   "display_name": "Python 3 (ipykernel)",
   "language": "python",
   "name": "python3"
  },
  "language_info": {
   "codemirror_mode": {
    "name": "ipython",
    "version": 3
   },
   "file_extension": ".py",
   "mimetype": "text/x-python",
   "name": "python",
   "nbconvert_exporter": "python",
   "pygments_lexer": "ipython3",
   "version": "3.10.13"
  }
 },
 "nbformat": 4,
 "nbformat_minor": 5
}
