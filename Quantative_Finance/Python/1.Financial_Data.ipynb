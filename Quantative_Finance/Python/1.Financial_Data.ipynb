{
 "cells": [
  {
   "cell_type": "markdown",
   "metadata": {},
   "source": [
    "# Fama-French Data"
   ]
  },
  {
   "cell_type": "code",
   "execution_count": 1,
   "metadata": {
    "vscode": {
     "languageId": "r"
    }
   },
   "outputs": [
    {
     "name": "stdout",
     "output_type": "stream",
     "text": []
    }
   ],
   "source": [
    "import pandas_datareader as pdr\n",
    "import pandas as pd\n",
    "import numpy as np\n",
    "\n",
    "start_date = \"1960-01-01\"\n",
    "end_date = \"2022-12-31\"\n",
    "\n",
    "factors_ff3_monthly_raw = pdr.DataReader(\n",
    "  name=\"F-F_Research_Data_Factors\",\n",
    "  data_source=\"famafrench\", \n",
    "  start=start_date, \n",
    "  end=end_date)[0]\n",
    "\n",
    "factors_ff3_monthly = (factors_ff3_monthly_raw\n",
    "  .divide(100)\n",
    "  .reset_index(names=\"month\")\n",
    "  .assign(month=lambda x: pd.to_datetime(x[\"month\"].astype(str)))\n",
    "  .rename(str.lower, axis=\"columns\")\n",
    "  .rename(columns={\"mkt-rf\": \"mkt_excess\"})\n",
    ")"
   ]
  },
  {
   "cell_type": "code",
   "execution_count": null,
   "metadata": {
    "vscode": {
     "languageId": "r"
    }
   },
   "outputs": [
    {
     "name": "stderr",
     "output_type": "stream",
     "text": [
      "/var/folders/_y/0xw7_0ss0s3f4kfhj9xl96zw0000gn/T/ipykernel_9840/2113571173.py:1: FutureWarning: The argument 'date_parser' is deprecated and will be removed in a future version. Please use 'date_format' instead, or read your data in as 'object' dtype and then call 'to_datetime'.\n",
      "  factors_ff5_monthly_raw = pdr.DataReader(\n",
      "/var/folders/_y/0xw7_0ss0s3f4kfhj9xl96zw0000gn/T/ipykernel_9840/2113571173.py:1: FutureWarning: The argument 'date_parser' is deprecated and will be removed in a future version. Please use 'date_format' instead, or read your data in as 'object' dtype and then call 'to_datetime'.\n",
      "  factors_ff5_monthly_raw = pdr.DataReader(\n"
     ]
    }
   ],
   "source": [
    "factors_ff5_monthly_raw = pdr.DataReader(\n",
    "  name=\"F-F_Research_Data_5_Factors_2x3\",\n",
    "  data_source=\"famafrench\", \n",
    "  start=start_date, \n",
    "  end=end_date)[0]\n",
    "\n",
    "factors_ff5_monthly = (factors_ff5_monthly_raw\n",
    "  .divide(100)\n",
    "  .reset_index(names=\"month\")\n",
    "  .assign(month=lambda x: pd.to_datetime(x[\"month\"].astype(str)))\n",
    "  .rename(str.lower, axis=\"columns\")\n",
    "  .rename(columns={\"mkt-rf\": \"mkt_excess\"})\n",
    ")"
   ]
  },
  {
   "cell_type": "code",
   "execution_count": null,
   "metadata": {
    "vscode": {
     "languageId": "r"
    }
   },
   "outputs": [
    {
     "name": "stderr",
     "output_type": "stream",
     "text": [
      "/var/folders/_y/0xw7_0ss0s3f4kfhj9xl96zw0000gn/T/ipykernel_9840/4051783287.py:1: FutureWarning: The argument 'date_parser' is deprecated and will be removed in a future version. Please use 'date_format' instead, or read your data in as 'object' dtype and then call 'to_datetime'.\n",
      "  factors_ff3_daily_raw = pdr.DataReader(\n"
     ]
    }
   ],
   "source": [
    "factors_ff3_daily_raw = pdr.DataReader(\n",
    "  name=\"F-F_Research_Data_Factors_daily\",\n",
    "  data_source=\"famafrench\", \n",
    "  start=start_date, \n",
    "  end=end_date)[0]\n",
    "\n",
    "factors_ff3_daily = (factors_ff3_daily_raw\n",
    "  .divide(100)\n",
    "  .reset_index(names=\"date\")\n",
    "  .rename(str.lower, axis=\"columns\")\n",
    "  .rename(columns={\"mkt-rf\": \"mkt_excess\"})\n",
    ")"
   ]
  },
  {
   "cell_type": "code",
   "execution_count": null,
   "metadata": {
    "vscode": {
     "languageId": "r"
    }
   },
   "outputs": [
    {
     "name": "stderr",
     "output_type": "stream",
     "text": [
      "/var/folders/_y/0xw7_0ss0s3f4kfhj9xl96zw0000gn/T/ipykernel_9840/192540579.py:1: FutureWarning: The argument 'date_parser' is deprecated and will be removed in a future version. Please use 'date_format' instead, or read your data in as 'object' dtype and then call 'to_datetime'.\n",
      "  industries_ff_monthly_raw = pdr.DataReader(\n",
      "/var/folders/_y/0xw7_0ss0s3f4kfhj9xl96zw0000gn/T/ipykernel_9840/192540579.py:1: FutureWarning: The argument 'date_parser' is deprecated and will be removed in a future version. Please use 'date_format' instead, or read your data in as 'object' dtype and then call 'to_datetime'.\n",
      "  industries_ff_monthly_raw = pdr.DataReader(\n",
      "/var/folders/_y/0xw7_0ss0s3f4kfhj9xl96zw0000gn/T/ipykernel_9840/192540579.py:1: FutureWarning: The argument 'date_parser' is deprecated and will be removed in a future version. Please use 'date_format' instead, or read your data in as 'object' dtype and then call 'to_datetime'.\n",
      "  industries_ff_monthly_raw = pdr.DataReader(\n",
      "/var/folders/_y/0xw7_0ss0s3f4kfhj9xl96zw0000gn/T/ipykernel_9840/192540579.py:1: FutureWarning: The argument 'date_parser' is deprecated and will be removed in a future version. Please use 'date_format' instead, or read your data in as 'object' dtype and then call 'to_datetime'.\n",
      "  industries_ff_monthly_raw = pdr.DataReader(\n",
      "/var/folders/_y/0xw7_0ss0s3f4kfhj9xl96zw0000gn/T/ipykernel_9840/192540579.py:1: FutureWarning: The argument 'date_parser' is deprecated and will be removed in a future version. Please use 'date_format' instead, or read your data in as 'object' dtype and then call 'to_datetime'.\n",
      "  industries_ff_monthly_raw = pdr.DataReader(\n",
      "/var/folders/_y/0xw7_0ss0s3f4kfhj9xl96zw0000gn/T/ipykernel_9840/192540579.py:1: FutureWarning: The argument 'date_parser' is deprecated and will be removed in a future version. Please use 'date_format' instead, or read your data in as 'object' dtype and then call 'to_datetime'.\n",
      "  industries_ff_monthly_raw = pdr.DataReader(\n",
      "/var/folders/_y/0xw7_0ss0s3f4kfhj9xl96zw0000gn/T/ipykernel_9840/192540579.py:1: FutureWarning: The argument 'date_parser' is deprecated and will be removed in a future version. Please use 'date_format' instead, or read your data in as 'object' dtype and then call 'to_datetime'.\n",
      "  industries_ff_monthly_raw = pdr.DataReader(\n",
      "/var/folders/_y/0xw7_0ss0s3f4kfhj9xl96zw0000gn/T/ipykernel_9840/192540579.py:1: FutureWarning: The argument 'date_parser' is deprecated and will be removed in a future version. Please use 'date_format' instead, or read your data in as 'object' dtype and then call 'to_datetime'.\n",
      "  industries_ff_monthly_raw = pdr.DataReader(\n"
     ]
    }
   ],
   "source": [
    "industries_ff_monthly_raw = pdr.DataReader(\n",
    "  name=\"10_Industry_Portfolios\",\n",
    "  data_source=\"famafrench\", \n",
    "  start=start_date, \n",
    "  end=end_date)[0]\n",
    "\n",
    "industries_ff_monthly = (industries_ff_monthly_raw\n",
    "  .divide(100)\n",
    "  .reset_index(names=\"month\")\n",
    "  .assign(month=lambda x: pd.to_datetime(x[\"month\"].astype(str)))\n",
    "  .rename(str.lower, axis=\"columns\")\n",
    ")"
   ]
  },
  {
   "cell_type": "markdown",
   "metadata": {},
   "source": [
    "# q-Factors"
   ]
  },
  {
   "cell_type": "code",
   "execution_count": null,
   "metadata": {
    "vscode": {
     "languageId": "r"
    }
   },
   "outputs": [],
   "source": [
    "factors_q_monthly_link = (\n",
    "  \"https://global-q.org/uploads/1/2/2/6/122679606/\"\n",
    "  \"q5_factors_monthly_2022.csv\"\n",
    ")\n",
    "\n",
    "factors_q_monthly = (pd.read_csv(factors_q_monthly_link)\n",
    "  .assign(\n",
    "    month=lambda x: (\n",
    "      pd.to_datetime(x[\"year\"].astype(str) + \"-\" +\n",
    "        x[\"month\"].astype(str) + \"-01\"))\n",
    "  )\n",
    "  .drop(columns=[\"R_F\", \"R_MKT\", \"year\"])\n",
    "  .rename(columns=lambda x: x.replace(\"R_\", \"\").lower())\n",
    "  .query(f\"month >= '{start_date}' and month <= '{end_date}'\")\n",
    "  .assign(\n",
    "    **{col: lambda x: x[col]/100 for col in [\"me\", \"ia\", \"roe\", \"eg\"]}\n",
    "  )\n",
    ")"
   ]
  },
  {
   "cell_type": "markdown",
   "metadata": {},
   "source": [
    "# Macroeconomic Predictors"
   ]
  },
  {
   "cell_type": "code",
   "execution_count": null,
   "metadata": {
    "vscode": {
     "languageId": "r"
    }
   },
   "outputs": [],
   "source": [
    "sheet_id = \"1g4LOaRj4TvwJr9RIaA_nwrXXWTOy46bP\"\n",
    "sheet_name = \"macro_predictors.xlsx\"\n",
    "macro_predictors_link = (\n",
    "  f\"https://docs.google.com/spreadsheets/d/{sheet_id}\" \n",
    "  f\"/gviz/tq?tqx=out:csv&sheet={sheet_name}\"\n",
    ")\n",
    "\n",
    "macro_predictors = (\n",
    "  pd.read_csv(macro_predictors_link, thousands=\",\")\n",
    "  .assign(\n",
    "    month=lambda x: pd.to_datetime(x[\"yyyymm\"], format=\"%Y%m\"),\n",
    "    dp=lambda x: np.log(x[\"D12\"])-np.log(x[\"Index\"]),\n",
    "    dy=lambda x: np.log(x[\"D12\"])-np.log(x[\"D12\"].shift(1)),\n",
    "    ep=lambda x: np.log(x[\"E12\"])-np.log(x[\"Index\"]),\n",
    "    de=lambda x: np.log(x[\"D12\"])-np.log(x[\"E12\"]),\n",
    "    tms=lambda x: x[\"lty\"]-x[\"tbl\"],\n",
    "    dfy=lambda x: x[\"BAA\"]-x[\"AAA\"]\n",
    "  )\n",
    "  .rename(columns={\"b/m\": \"bm\"})\n",
    "  .get([\"month\", \"dp\", \"dy\", \"ep\", \"de\", \"svar\", \"bm\", \n",
    "        \"ntis\", \"tbl\", \"lty\", \"ltr\", \"tms\", \"dfy\", \"infl\"])\n",
    "  .query(\"month >= @start_date and month <= @end_date\")\n",
    "  .dropna()\n",
    ")"
   ]
  },
  {
   "cell_type": "code",
   "execution_count": null,
   "metadata": {
    "vscode": {
     "languageId": "r"
    }
   },
   "outputs": [],
   "source": [
    "cpi_monthly = (pdr.DataReader(\n",
    "    name=\"CPIAUCNS\", \n",
    "    data_source=\"fred\", \n",
    "    start=start_date, \n",
    "    end=end_date\n",
    "  )\n",
    "  .reset_index(names=\"month\")\n",
    "  .rename(columns={\"CPIAUCNS\": \"cpi\"})\n",
    "  .assign(cpi=lambda x: x[\"cpi\"]/x[\"cpi\"].iloc[-1])\n",
    ")"
   ]
  },
  {
   "cell_type": "markdown",
   "metadata": {},
   "source": [
    "# Set Database"
   ]
  },
  {
   "cell_type": "code",
   "execution_count": null,
   "metadata": {
    "vscode": {
     "languageId": "r"
    }
   },
   "outputs": [],
   "source": [
    "import os\n",
    "import sqlite3\n",
    "\n",
    "# Create the data directory if it doesn't exist\n",
    "data_dir = \"data\"\n",
    "if not os.path.exists(data_dir):\n",
    "    os.makedirs(data_dir)\n",
    "\n",
    "# Provide the full path to the SQLite database file\n",
    "db_file = os.path.join(data_dir, \"tidy_finance_python.sqlite\")\n",
    "\n",
    "# Connect to the SQLite database (this will create the database file if it doesn't exist)\n",
    "tidy_finance = sqlite3.connect(db_file)\n"
   ]
  },
  {
   "cell_type": "code",
   "execution_count": null,
   "metadata": {
    "vscode": {
     "languageId": "r"
    }
   },
   "outputs": [
    {
     "data": {
      "text/html": [
       "<div>\n",
       "<style scoped>\n",
       "    .dataframe tbody tr th:only-of-type {\n",
       "        vertical-align: middle;\n",
       "    }\n",
       "\n",
       "    .dataframe tbody tr th {\n",
       "        vertical-align: top;\n",
       "    }\n",
       "\n",
       "    .dataframe thead th {\n",
       "        text-align: right;\n",
       "    }\n",
       "</style>\n",
       "<table border=\"1\" class=\"dataframe\">\n",
       "  <thead>\n",
       "    <tr style=\"text-align: right;\">\n",
       "      <th></th>\n",
       "      <th>month</th>\n",
       "      <th>rf</th>\n",
       "    </tr>\n",
       "  </thead>\n",
       "  <tbody>\n",
       "    <tr>\n",
       "      <th>0</th>\n",
       "      <td>1960-01-01</td>\n",
       "      <td>0.0033</td>\n",
       "    </tr>\n",
       "    <tr>\n",
       "      <th>1</th>\n",
       "      <td>1960-02-01</td>\n",
       "      <td>0.0029</td>\n",
       "    </tr>\n",
       "    <tr>\n",
       "      <th>2</th>\n",
       "      <td>1960-03-01</td>\n",
       "      <td>0.0035</td>\n",
       "    </tr>\n",
       "    <tr>\n",
       "      <th>3</th>\n",
       "      <td>1960-04-01</td>\n",
       "      <td>0.0019</td>\n",
       "    </tr>\n",
       "    <tr>\n",
       "      <th>4</th>\n",
       "      <td>1960-05-01</td>\n",
       "      <td>0.0027</td>\n",
       "    </tr>\n",
       "    <tr>\n",
       "      <th>...</th>\n",
       "      <td>...</td>\n",
       "      <td>...</td>\n",
       "    </tr>\n",
       "    <tr>\n",
       "      <th>751</th>\n",
       "      <td>2022-08-01</td>\n",
       "      <td>0.0019</td>\n",
       "    </tr>\n",
       "    <tr>\n",
       "      <th>752</th>\n",
       "      <td>2022-09-01</td>\n",
       "      <td>0.0019</td>\n",
       "    </tr>\n",
       "    <tr>\n",
       "      <th>753</th>\n",
       "      <td>2022-10-01</td>\n",
       "      <td>0.0023</td>\n",
       "    </tr>\n",
       "    <tr>\n",
       "      <th>754</th>\n",
       "      <td>2022-11-01</td>\n",
       "      <td>0.0029</td>\n",
       "    </tr>\n",
       "    <tr>\n",
       "      <th>755</th>\n",
       "      <td>2022-12-01</td>\n",
       "      <td>0.0033</td>\n",
       "    </tr>\n",
       "  </tbody>\n",
       "</table>\n",
       "<p>756 rows × 2 columns</p>\n",
       "</div>"
      ],
      "text/plain": [
       "         month      rf\n",
       "0   1960-01-01  0.0033\n",
       "1   1960-02-01  0.0029\n",
       "2   1960-03-01  0.0035\n",
       "3   1960-04-01  0.0019\n",
       "4   1960-05-01  0.0027\n",
       "..         ...     ...\n",
       "751 2022-08-01  0.0019\n",
       "752 2022-09-01  0.0019\n",
       "753 2022-10-01  0.0023\n",
       "754 2022-11-01  0.0029\n",
       "755 2022-12-01  0.0033\n",
       "\n",
       "[756 rows x 2 columns]"
      ]
     },
     "execution_count": 9,
     "metadata": {},
     "output_type": "execute_result"
    }
   ],
   "source": [
    "import sqlite3\n",
    "tidy_finance = sqlite3.connect(database=\"data/tidy_finance_python.sqlite\")\n",
    "\n",
    "(factors_ff3_monthly\n",
    "  .to_sql(name=\"factors_ff3_monthly\", \n",
    "          con=tidy_finance, \n",
    "          if_exists=\"replace\",\n",
    "          index=False)\n",
    ")\n",
    "\n",
    "pd.read_sql_query(\n",
    "  sql=\"SELECT month, rf FROM factors_ff3_monthly\",\n",
    "  con=tidy_finance,\n",
    "  parse_dates={\"month\"}\n",
    ")"
   ]
  },
  {
   "cell_type": "code",
   "execution_count": null,
   "metadata": {
    "vscode": {
     "languageId": "r"
    }
   },
   "outputs": [],
   "source": [
    "data_dict = {\n",
    "  \"factors_ff5_monthly\": factors_ff5_monthly,\n",
    "  \"factors_ff3_daily\": factors_ff3_daily,\n",
    "  \"industries_ff_monthly\": industries_ff_monthly, \n",
    "  \"factors_q_monthly\": factors_q_monthly,\n",
    "  \"macro_predictors\": macro_predictors,\n",
    "  \"cpi_monthly\": cpi_monthly\n",
    "}\n",
    "\n",
    "for key, value in data_dict.items():\n",
    "    value.to_sql(name=key,\n",
    "                 con=tidy_finance, \n",
    "                 if_exists=\"replace\",\n",
    "                 index=False)\n",
    "    \n"
   ]
  }
 ],
 "metadata": {
  "kernelspec": {
   "display_name": "R",
   "language": "R",
   "name": "ir"
  },
  "language_info": {
   "codemirror_mode": "r",
   "file_extension": ".r",
   "mimetype": "text/x-r-source",
   "name": "R",
   "pygments_lexer": "r",
   "version": "4.3.2"
  }
 },
 "nbformat": 4,
 "nbformat_minor": 2
}
