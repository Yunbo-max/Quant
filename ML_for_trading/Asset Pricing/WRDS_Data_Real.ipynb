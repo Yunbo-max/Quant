{
 "cells": [
  {
   "cell_type": "markdown",
   "metadata": {},
   "source": [
    "# Factors"
   ]
  },
  {
   "cell_type": "code",
   "execution_count": 15,
   "metadata": {
    "vscode": {
     "languageId": "r"
    }
   },
   "outputs": [
    {
     "name": "stderr",
     "output_type": "stream",
     "text": [
      "\u001b[1m\u001b[22mNew names:\n",
      "\u001b[36m*\u001b[39m `` -> `...1`\n",
      "\u001b[1m\u001b[22mNew names:\n",
      "\u001b[36m*\u001b[39m `` -> `...1`\n",
      "\u001b[1m\u001b[22mNew names:\n",
      "\u001b[36m*\u001b[39m `` -> `...1`\n",
      "\u001b[1m\u001b[22mNew names:\n",
      "\u001b[36m*\u001b[39m `` -> `...1`\n",
      "\u001b[1m\u001b[22mNew names:\n",
      "\u001b[36m*\u001b[39m `` -> `...1`\n",
      "\u001b[1m\u001b[22mNew names:\n",
      "\u001b[36m*\u001b[39m `` -> `...1`\n",
      "\u001b[1m\u001b[22mNew names:\n",
      "\u001b[36m*\u001b[39m `` -> `...1`\n",
      "\u001b[1m\u001b[22mNew names:\n",
      "\u001b[36m*\u001b[39m `` -> `...1`\n",
      "\u001b[1m\u001b[22mNew names:\n",
      "\u001b[36m*\u001b[39m `` -> `...1`\n",
      "\u001b[1m\u001b[22mNew names:\n",
      "\u001b[36m*\u001b[39m `` -> `...1`\n",
      "\u001b[1m\u001b[22mNew names:\n",
      "\u001b[36m*\u001b[39m `` -> `...1`\n",
      "\u001b[1m\u001b[22mNew names:\n",
      "\u001b[36m*\u001b[39m `` -> `...1`\n",
      "\u001b[1m\u001b[22mNew names:\n",
      "\u001b[36m*\u001b[39m `` -> `...1`\n"
     ]
    }
   ],
   "source": [
    "library(tidyverse)\n",
    "library(scales)\n",
    "start_date <- ymd(\"1999-12-30\")\n",
    "end_date <- ymd(\"2024-3-21\")\n",
    "\n",
    "library(frenchdata)\n",
    "\n",
    "factors_ff3_monthly_raw <- download_french_data(\"Fama/French 3 Factors\")\n",
    "factors_ff3_monthly <- factors_ff3_monthly_raw$subsets$data[[1]] |>\n",
    "  mutate(\n",
    "    month = floor_date(ymd(str_c(date, \"01\")), \"month\"),\n",
    "    across(c(RF, `Mkt-RF`, SMB, HML), ~as.numeric(.) / 100),\n",
    "    .keep = \"none\"\n",
    "  ) |>\n",
    "  rename_with(str_to_lower) |>\n",
    "  rename(mkt_excess = `mkt-rf`) |> \n",
    "  filter(month >= start_date & month <= end_date)\n",
    "\n",
    "\n",
    "factors_ff5_monthly_raw <- download_french_data(\"Fama/French 5 Factors (2x3)\")\n",
    "\n",
    "factors_ff5_monthly <- factors_ff5_monthly_raw$subsets$data[[1]] |>\n",
    "  mutate(\n",
    "    month = floor_date(ymd(str_c(date, \"01\")), \"month\"),\n",
    "    across(c(RF, `Mkt-RF`, SMB, HML, RMW, CMA), ~as.numeric(.) / 100),\n",
    "    .keep = \"none\"\n",
    "  ) |>\n",
    "  rename_with(str_to_lower) |>\n",
    "  rename(mkt_excess = `mkt-rf`) |> \n",
    "  filter(month >= start_date & month <= end_date)\n",
    "\n",
    "factors_ff3_daily_raw <- download_french_data(\"Fama/French 3 Factors [Daily]\")\n",
    "\n",
    "factors_ff3_daily <- factors_ff3_daily_raw$subsets$data[[1]] |>\n",
    "  mutate(\n",
    "    date = ymd(date),\n",
    "    across(c(RF, `Mkt-RF`, SMB, HML), ~as.numeric(.) / 100),\n",
    "    .keep = \"none\"\n",
    "  ) |>\n",
    "  rename_with(str_to_lower) |>\n",
    "  rename(mkt_excess = `mkt-rf`) |>\n",
    "  filter(date >= start_date & date <= end_date)\n",
    "\n",
    "industries_ff_monthly_raw <- download_french_data(\"10 Industry Portfolios\")\n",
    "\n",
    "industries_ff_monthly <- industries_ff_monthly_raw$subsets$data[[1]] |>\n",
    "  mutate(month = floor_date(ymd(str_c(date, \"01\")), \"month\")) |>\n",
    "  mutate(across(where(is.numeric), ~ . / 100)) |>\n",
    "  select(month, everything(), -date) |>\n",
    "  filter(month >= start_date & month <= end_date) |> \n",
    "  rename_with(str_to_lower)"
   ]
  },
  {
   "cell_type": "markdown",
   "metadata": {},
   "source": [
    "# q factors"
   ]
  },
  {
   "cell_type": "code",
   "execution_count": 16,
   "metadata": {
    "vscode": {
     "languageId": "r"
    }
   },
   "outputs": [
    {
     "name": "stderr",
     "output_type": "stream",
     "text": [
      "\u001b[1mRows: \u001b[22m\u001b[34m672\u001b[39m \u001b[1mColumns: \u001b[22m\u001b[34m8\u001b[39m\n",
      "\u001b[36m--\u001b[39m \u001b[1mColumn specification\u001b[22m \u001b[36m--------------------------------------------------------\u001b[39m\n",
      "\u001b[1mDelimiter:\u001b[22m \",\"\n",
      "\u001b[32mdbl\u001b[39m (8): year, month, R_F, R_MKT, R_ME, R_IA, R_ROE, R_EG\n",
      "\n",
      "\u001b[36mi\u001b[39m Use `spec()` to retrieve the full column specification for this data.\n",
      "\u001b[36mi\u001b[39m Specify the column types or set `show_col_types = FALSE` to quiet this message.\n"
     ]
    }
   ],
   "source": [
    "factors_q_monthly_link <-\n",
    "  \"https://global-q.org/uploads/1/2/2/6/122679606/q5_factors_monthly_2022.csv\"\n",
    "\n",
    "factors_q_monthly <- read_csv(factors_q_monthly_link) |>\n",
    "  mutate(month = ymd(str_c(year, month, \"01\", sep = \"-\"))) |>\n",
    "  select(-R_F, -R_MKT, -year) |>\n",
    "  rename_with(~ str_remove(., \"R_\")) |>\n",
    "  rename_with(~ str_to_lower(.)) |>\n",
    "  mutate(across(-month, ~ . / 100)) |>\n",
    "  filter(month >= start_date & month <= end_date)"
   ]
  },
  {
   "cell_type": "markdown",
   "metadata": {},
   "source": [
    "# Macroeconomic Predictors"
   ]
  },
  {
   "cell_type": "code",
   "execution_count": 17,
   "metadata": {
    "vscode": {
     "languageId": "r"
    }
   },
   "outputs": [
    {
     "name": "stderr",
     "output_type": "stream",
     "text": [
      "File downloaded:\n",
      "\n",
      "* \u001b[36mPredictorData2022.xlsx\u001b[39m \u001b[90m<id:<U+00A0>1g4LOaRj4TvwJr9RIaA_nwrXXWTOy46bP>\u001b[39m\n",
      "\n",
      "Saved locally as:\n",
      "\n",
      "* \u001b[34mmacro_predictors.xlsx\u001b[39m\n",
      "\n"
     ]
    },
    {
     "data": {
      "text/html": [
       "TRUE"
      ],
      "text/latex": [
       "TRUE"
      ],
      "text/markdown": [
       "TRUE"
      ],
      "text/plain": [
       "[1] TRUE"
      ]
     },
     "metadata": {},
     "output_type": "display_data"
    }
   ],
   "source": [
    "library(readxl)\n",
    "library(googledrive)\n",
    "drive_deauth()\n",
    "\n",
    "macro_predictors_link <-\n",
    "  \"https://docs.google.com/spreadsheets/d/1g4LOaRj4TvwJr9RIaA_nwrXXWTOy46bP\"\n",
    "\n",
    "drive_download(\n",
    "  macro_predictors_link,\n",
    "  path = \"macro_predictors.xlsx\"\n",
    ")\n",
    "\n",
    "macro_predictors <- read_xlsx(\n",
    "  \"macro_predictors.xlsx\",\n",
    "  sheet = \"Monthly\"\n",
    ") |>\n",
    "  mutate(month = ym(yyyymm)) |>\n",
    "  mutate(across(where(is.character), as.numeric)) |>\n",
    "  mutate(\n",
    "    IndexDiv = Index + D12,\n",
    "    logret = log(IndexDiv) - log(lag(IndexDiv)),\n",
    "    Rfree = log(Rfree + 1),\n",
    "    rp_div = lead(logret - Rfree, 1), # Future excess market return\n",
    "    dp = log(D12) - log(Index), # Dividend Price ratio\n",
    "    dy = log(D12) - log(lag(Index)), # Dividend yield\n",
    "    ep = log(E12) - log(Index), # Earnings price ratio\n",
    "    de = log(D12) - log(E12), # Dividend payout ratio\n",
    "    tms = lty - tbl, # Term spread\n",
    "    dfy = BAA - AAA # Default yield spread\n",
    "  ) |>\n",
    "  select(month, rp_div, dp, dy, ep, de, svar,\n",
    "    bm = `b/m`, ntis, tbl, lty, ltr,\n",
    "    tms, dfy, infl\n",
    "  ) |>\n",
    "  filter(month >= start_date & month <= end_date) |>\n",
    "  drop_na()\n",
    "\n",
    "  file.remove(\"macro_predictors.xlsx\")"
   ]
  },
  {
   "cell_type": "markdown",
   "metadata": {},
   "source": [
    "# Others (Federal Reserve Economic Data (FRED))"
   ]
  },
  {
   "cell_type": "code",
   "execution_count": 18,
   "metadata": {
    "vscode": {
     "languageId": "r"
    }
   },
   "outputs": [],
   "source": [
    "library(tidyquant)\n",
    "\n",
    "cpi_monthly <- tq_get(\"CPIAUCNS\",\n",
    "  get = \"economic.data\",\n",
    "  from = start_date,\n",
    "  to = end_date\n",
    ") |>\n",
    "  mutate(\n",
    "    month = floor_date(date, \"month\"),\n",
    "    cpi = price / price[month == max(month)],\n",
    "    .keep = \"none\"\n",
    "  )"
   ]
  },
  {
   "cell_type": "markdown",
   "metadata": {},
   "source": [
    "# My database MySQL"
   ]
  },
  {
   "cell_type": "code",
   "execution_count": 19,
   "metadata": {
    "vscode": {
     "languageId": "r"
    }
   },
   "outputs": [
    {
     "data": {
      "text/plain": [
       "\u001b[90m# Source:   SQL [?? x 2]\u001b[39m\n",
       "\u001b[90m# Database: sqlite 3.45.0 [/Users/yunbo/Documents/GitHub/Quant/ML_for_trading/Asset Pricing/data/tidy_finance_r.sqlite]\u001b[39m\n",
       "   month          rf\n",
       "   \u001b[3m\u001b[90m<date>\u001b[39m\u001b[23m      \u001b[3m\u001b[90m<dbl>\u001b[39m\u001b[23m\n",
       "\u001b[90m 1\u001b[39m 2000-01-01 0.004\u001b[4m1\u001b[24m\n",
       "\u001b[90m 2\u001b[39m 2000-02-01 0.004\u001b[4m3\u001b[24m\n",
       "\u001b[90m 3\u001b[39m 2000-03-01 0.004\u001b[4m7\u001b[24m\n",
       "\u001b[90m 4\u001b[39m 2000-04-01 0.004\u001b[4m6\u001b[24m\n",
       "\u001b[90m 5\u001b[39m 2000-05-01 0.005 \n",
       "\u001b[90m 6\u001b[39m 2000-06-01 0.004 \n",
       "\u001b[90m 7\u001b[39m 2000-07-01 0.004\u001b[4m8\u001b[24m\n",
       "\u001b[90m 8\u001b[39m 2000-08-01 0.005 \n",
       "\u001b[90m 9\u001b[39m 2000-09-01 0.005\u001b[4m1\u001b[24m\n",
       "\u001b[90m10\u001b[39m 2000-10-01 0.005\u001b[4m6\u001b[24m\n",
       "\u001b[90m# i more rows\u001b[39m"
      ]
     },
     "metadata": {},
     "output_type": "display_data"
    },
    {
     "data": {
      "text/html": [
       "<table class=\"dataframe\">\n",
       "<caption>A tibble: 289 x 2</caption>\n",
       "<thead>\n",
       "\t<tr><th scope=col>month</th><th scope=col>rf</th></tr>\n",
       "\t<tr><th scope=col>&lt;date&gt;</th><th scope=col>&lt;dbl&gt;</th></tr>\n",
       "</thead>\n",
       "<tbody>\n",
       "\t<tr><td>2000-01-01</td><td>0.0041</td></tr>\n",
       "\t<tr><td>2000-02-01</td><td>0.0043</td></tr>\n",
       "\t<tr><td>2000-03-01</td><td>0.0047</td></tr>\n",
       "\t<tr><td>2000-04-01</td><td>0.0046</td></tr>\n",
       "\t<tr><td>2000-05-01</td><td>0.0050</td></tr>\n",
       "\t<tr><td>2000-06-01</td><td>0.0040</td></tr>\n",
       "\t<tr><td>2000-07-01</td><td>0.0048</td></tr>\n",
       "\t<tr><td>2000-08-01</td><td>0.0050</td></tr>\n",
       "\t<tr><td>2000-09-01</td><td>0.0051</td></tr>\n",
       "\t<tr><td>2000-10-01</td><td>0.0056</td></tr>\n",
       "\t<tr><td>2000-11-01</td><td>0.0051</td></tr>\n",
       "\t<tr><td>2000-12-01</td><td>0.0050</td></tr>\n",
       "\t<tr><td>2001-01-01</td><td>0.0054</td></tr>\n",
       "\t<tr><td>2001-02-01</td><td>0.0038</td></tr>\n",
       "\t<tr><td>2001-03-01</td><td>0.0042</td></tr>\n",
       "\t<tr><td>2001-04-01</td><td>0.0039</td></tr>\n",
       "\t<tr><td>2001-05-01</td><td>0.0032</td></tr>\n",
       "\t<tr><td>2001-06-01</td><td>0.0028</td></tr>\n",
       "\t<tr><td>2001-07-01</td><td>0.0030</td></tr>\n",
       "\t<tr><td>2001-08-01</td><td>0.0031</td></tr>\n",
       "\t<tr><td>2001-09-01</td><td>0.0028</td></tr>\n",
       "\t<tr><td>2001-10-01</td><td>0.0022</td></tr>\n",
       "\t<tr><td>2001-11-01</td><td>0.0017</td></tr>\n",
       "\t<tr><td>2001-12-01</td><td>0.0015</td></tr>\n",
       "\t<tr><td>2002-01-01</td><td>0.0014</td></tr>\n",
       "\t<tr><td>2002-02-01</td><td>0.0013</td></tr>\n",
       "\t<tr><td>2002-03-01</td><td>0.0013</td></tr>\n",
       "\t<tr><td>2002-04-01</td><td>0.0015</td></tr>\n",
       "\t<tr><td>2002-05-01</td><td>0.0014</td></tr>\n",
       "\t<tr><td>2002-06-01</td><td>0.0013</td></tr>\n",
       "\t<tr><td>...</td><td>...</td></tr>\n",
       "\t<tr><td>2021-08-01</td><td>0.0000</td></tr>\n",
       "\t<tr><td>2021-09-01</td><td>0.0000</td></tr>\n",
       "\t<tr><td>2021-10-01</td><td>0.0000</td></tr>\n",
       "\t<tr><td>2021-11-01</td><td>0.0000</td></tr>\n",
       "\t<tr><td>2021-12-01</td><td>0.0001</td></tr>\n",
       "\t<tr><td>2022-01-01</td><td>0.0000</td></tr>\n",
       "\t<tr><td>2022-02-01</td><td>0.0000</td></tr>\n",
       "\t<tr><td>2022-03-01</td><td>0.0001</td></tr>\n",
       "\t<tr><td>2022-04-01</td><td>0.0001</td></tr>\n",
       "\t<tr><td>2022-05-01</td><td>0.0003</td></tr>\n",
       "\t<tr><td>2022-06-01</td><td>0.0006</td></tr>\n",
       "\t<tr><td>2022-07-01</td><td>0.0008</td></tr>\n",
       "\t<tr><td>2022-08-01</td><td>0.0019</td></tr>\n",
       "\t<tr><td>2022-09-01</td><td>0.0019</td></tr>\n",
       "\t<tr><td>2022-10-01</td><td>0.0023</td></tr>\n",
       "\t<tr><td>2022-11-01</td><td>0.0029</td></tr>\n",
       "\t<tr><td>2022-12-01</td><td>0.0033</td></tr>\n",
       "\t<tr><td>2023-01-01</td><td>0.0035</td></tr>\n",
       "\t<tr><td>2023-02-01</td><td>0.0034</td></tr>\n",
       "\t<tr><td>2023-03-01</td><td>0.0036</td></tr>\n",
       "\t<tr><td>2023-04-01</td><td>0.0035</td></tr>\n",
       "\t<tr><td>2023-05-01</td><td>0.0036</td></tr>\n",
       "\t<tr><td>2023-06-01</td><td>0.0040</td></tr>\n",
       "\t<tr><td>2023-07-01</td><td>0.0045</td></tr>\n",
       "\t<tr><td>2023-08-01</td><td>0.0045</td></tr>\n",
       "\t<tr><td>2023-09-01</td><td>0.0043</td></tr>\n",
       "\t<tr><td>2023-10-01</td><td>0.0047</td></tr>\n",
       "\t<tr><td>2023-11-01</td><td>0.0044</td></tr>\n",
       "\t<tr><td>2023-12-01</td><td>0.0043</td></tr>\n",
       "\t<tr><td>2024-01-01</td><td>0.0047</td></tr>\n",
       "</tbody>\n",
       "</table>\n"
      ],
      "text/latex": [
       "A tibble: 289 x 2\n",
       "\\begin{tabular}{ll}\n",
       " month & rf\\\\\n",
       " <date> & <dbl>\\\\\n",
       "\\hline\n",
       "\t 2000-01-01 & 0.0041\\\\\n",
       "\t 2000-02-01 & 0.0043\\\\\n",
       "\t 2000-03-01 & 0.0047\\\\\n",
       "\t 2000-04-01 & 0.0046\\\\\n",
       "\t 2000-05-01 & 0.0050\\\\\n",
       "\t 2000-06-01 & 0.0040\\\\\n",
       "\t 2000-07-01 & 0.0048\\\\\n",
       "\t 2000-08-01 & 0.0050\\\\\n",
       "\t 2000-09-01 & 0.0051\\\\\n",
       "\t 2000-10-01 & 0.0056\\\\\n",
       "\t 2000-11-01 & 0.0051\\\\\n",
       "\t 2000-12-01 & 0.0050\\\\\n",
       "\t 2001-01-01 & 0.0054\\\\\n",
       "\t 2001-02-01 & 0.0038\\\\\n",
       "\t 2001-03-01 & 0.0042\\\\\n",
       "\t 2001-04-01 & 0.0039\\\\\n",
       "\t 2001-05-01 & 0.0032\\\\\n",
       "\t 2001-06-01 & 0.0028\\\\\n",
       "\t 2001-07-01 & 0.0030\\\\\n",
       "\t 2001-08-01 & 0.0031\\\\\n",
       "\t 2001-09-01 & 0.0028\\\\\n",
       "\t 2001-10-01 & 0.0022\\\\\n",
       "\t 2001-11-01 & 0.0017\\\\\n",
       "\t 2001-12-01 & 0.0015\\\\\n",
       "\t 2002-01-01 & 0.0014\\\\\n",
       "\t 2002-02-01 & 0.0013\\\\\n",
       "\t 2002-03-01 & 0.0013\\\\\n",
       "\t 2002-04-01 & 0.0015\\\\\n",
       "\t 2002-05-01 & 0.0014\\\\\n",
       "\t 2002-06-01 & 0.0013\\\\\n",
       "\t ... & ...\\\\\n",
       "\t 2021-08-01 & 0.0000\\\\\n",
       "\t 2021-09-01 & 0.0000\\\\\n",
       "\t 2021-10-01 & 0.0000\\\\\n",
       "\t 2021-11-01 & 0.0000\\\\\n",
       "\t 2021-12-01 & 0.0001\\\\\n",
       "\t 2022-01-01 & 0.0000\\\\\n",
       "\t 2022-02-01 & 0.0000\\\\\n",
       "\t 2022-03-01 & 0.0001\\\\\n",
       "\t 2022-04-01 & 0.0001\\\\\n",
       "\t 2022-05-01 & 0.0003\\\\\n",
       "\t 2022-06-01 & 0.0006\\\\\n",
       "\t 2022-07-01 & 0.0008\\\\\n",
       "\t 2022-08-01 & 0.0019\\\\\n",
       "\t 2022-09-01 & 0.0019\\\\\n",
       "\t 2022-10-01 & 0.0023\\\\\n",
       "\t 2022-11-01 & 0.0029\\\\\n",
       "\t 2022-12-01 & 0.0033\\\\\n",
       "\t 2023-01-01 & 0.0035\\\\\n",
       "\t 2023-02-01 & 0.0034\\\\\n",
       "\t 2023-03-01 & 0.0036\\\\\n",
       "\t 2023-04-01 & 0.0035\\\\\n",
       "\t 2023-05-01 & 0.0036\\\\\n",
       "\t 2023-06-01 & 0.0040\\\\\n",
       "\t 2023-07-01 & 0.0045\\\\\n",
       "\t 2023-08-01 & 0.0045\\\\\n",
       "\t 2023-09-01 & 0.0043\\\\\n",
       "\t 2023-10-01 & 0.0047\\\\\n",
       "\t 2023-11-01 & 0.0044\\\\\n",
       "\t 2023-12-01 & 0.0043\\\\\n",
       "\t 2024-01-01 & 0.0047\\\\\n",
       "\\end{tabular}\n"
      ],
      "text/markdown": [
       "\n",
       "A tibble: 289 x 2\n",
       "\n",
       "| month &lt;date&gt; | rf &lt;dbl&gt; |\n",
       "|---|---|\n",
       "| 2000-01-01 | 0.0041 |\n",
       "| 2000-02-01 | 0.0043 |\n",
       "| 2000-03-01 | 0.0047 |\n",
       "| 2000-04-01 | 0.0046 |\n",
       "| 2000-05-01 | 0.0050 |\n",
       "| 2000-06-01 | 0.0040 |\n",
       "| 2000-07-01 | 0.0048 |\n",
       "| 2000-08-01 | 0.0050 |\n",
       "| 2000-09-01 | 0.0051 |\n",
       "| 2000-10-01 | 0.0056 |\n",
       "| 2000-11-01 | 0.0051 |\n",
       "| 2000-12-01 | 0.0050 |\n",
       "| 2001-01-01 | 0.0054 |\n",
       "| 2001-02-01 | 0.0038 |\n",
       "| 2001-03-01 | 0.0042 |\n",
       "| 2001-04-01 | 0.0039 |\n",
       "| 2001-05-01 | 0.0032 |\n",
       "| 2001-06-01 | 0.0028 |\n",
       "| 2001-07-01 | 0.0030 |\n",
       "| 2001-08-01 | 0.0031 |\n",
       "| 2001-09-01 | 0.0028 |\n",
       "| 2001-10-01 | 0.0022 |\n",
       "| 2001-11-01 | 0.0017 |\n",
       "| 2001-12-01 | 0.0015 |\n",
       "| 2002-01-01 | 0.0014 |\n",
       "| 2002-02-01 | 0.0013 |\n",
       "| 2002-03-01 | 0.0013 |\n",
       "| 2002-04-01 | 0.0015 |\n",
       "| 2002-05-01 | 0.0014 |\n",
       "| 2002-06-01 | 0.0013 |\n",
       "| ... | ... |\n",
       "| 2021-08-01 | 0.0000 |\n",
       "| 2021-09-01 | 0.0000 |\n",
       "| 2021-10-01 | 0.0000 |\n",
       "| 2021-11-01 | 0.0000 |\n",
       "| 2021-12-01 | 0.0001 |\n",
       "| 2022-01-01 | 0.0000 |\n",
       "| 2022-02-01 | 0.0000 |\n",
       "| 2022-03-01 | 0.0001 |\n",
       "| 2022-04-01 | 0.0001 |\n",
       "| 2022-05-01 | 0.0003 |\n",
       "| 2022-06-01 | 0.0006 |\n",
       "| 2022-07-01 | 0.0008 |\n",
       "| 2022-08-01 | 0.0019 |\n",
       "| 2022-09-01 | 0.0019 |\n",
       "| 2022-10-01 | 0.0023 |\n",
       "| 2022-11-01 | 0.0029 |\n",
       "| 2022-12-01 | 0.0033 |\n",
       "| 2023-01-01 | 0.0035 |\n",
       "| 2023-02-01 | 0.0034 |\n",
       "| 2023-03-01 | 0.0036 |\n",
       "| 2023-04-01 | 0.0035 |\n",
       "| 2023-05-01 | 0.0036 |\n",
       "| 2023-06-01 | 0.0040 |\n",
       "| 2023-07-01 | 0.0045 |\n",
       "| 2023-08-01 | 0.0045 |\n",
       "| 2023-09-01 | 0.0043 |\n",
       "| 2023-10-01 | 0.0047 |\n",
       "| 2023-11-01 | 0.0044 |\n",
       "| 2023-12-01 | 0.0043 |\n",
       "| 2024-01-01 | 0.0047 |\n",
       "\n"
      ],
      "text/plain": [
       "    month      rf    \n",
       "1   2000-01-01 0.0041\n",
       "2   2000-02-01 0.0043\n",
       "3   2000-03-01 0.0047\n",
       "4   2000-04-01 0.0046\n",
       "5   2000-05-01 0.0050\n",
       "6   2000-06-01 0.0040\n",
       "7   2000-07-01 0.0048\n",
       "8   2000-08-01 0.0050\n",
       "9   2000-09-01 0.0051\n",
       "10  2000-10-01 0.0056\n",
       "11  2000-11-01 0.0051\n",
       "12  2000-12-01 0.0050\n",
       "13  2001-01-01 0.0054\n",
       "14  2001-02-01 0.0038\n",
       "15  2001-03-01 0.0042\n",
       "16  2001-04-01 0.0039\n",
       "17  2001-05-01 0.0032\n",
       "18  2001-06-01 0.0028\n",
       "19  2001-07-01 0.0030\n",
       "20  2001-08-01 0.0031\n",
       "21  2001-09-01 0.0028\n",
       "22  2001-10-01 0.0022\n",
       "23  2001-11-01 0.0017\n",
       "24  2001-12-01 0.0015\n",
       "25  2002-01-01 0.0014\n",
       "26  2002-02-01 0.0013\n",
       "27  2002-03-01 0.0013\n",
       "28  2002-04-01 0.0015\n",
       "29  2002-05-01 0.0014\n",
       "30  2002-06-01 0.0013\n",
       "... ...        ...   \n",
       "260 2021-08-01 0.0000\n",
       "261 2021-09-01 0.0000\n",
       "262 2021-10-01 0.0000\n",
       "263 2021-11-01 0.0000\n",
       "264 2021-12-01 0.0001\n",
       "265 2022-01-01 0.0000\n",
       "266 2022-02-01 0.0000\n",
       "267 2022-03-01 0.0001\n",
       "268 2022-04-01 0.0001\n",
       "269 2022-05-01 0.0003\n",
       "270 2022-06-01 0.0006\n",
       "271 2022-07-01 0.0008\n",
       "272 2022-08-01 0.0019\n",
       "273 2022-09-01 0.0019\n",
       "274 2022-10-01 0.0023\n",
       "275 2022-11-01 0.0029\n",
       "276 2022-12-01 0.0033\n",
       "277 2023-01-01 0.0035\n",
       "278 2023-02-01 0.0034\n",
       "279 2023-03-01 0.0036\n",
       "280 2023-04-01 0.0035\n",
       "281 2023-05-01 0.0036\n",
       "282 2023-06-01 0.0040\n",
       "283 2023-07-01 0.0045\n",
       "284 2023-08-01 0.0045\n",
       "285 2023-09-01 0.0043\n",
       "286 2023-10-01 0.0047\n",
       "287 2023-11-01 0.0044\n",
       "288 2023-12-01 0.0043\n",
       "289 2024-01-01 0.0047"
      ]
     },
     "metadata": {},
     "output_type": "display_data"
    },
    {
     "data": {
      "text/plain": [
       "<SQLiteResult>\n",
       "  SQL  VACUUM\n",
       "  ROWS Fetched: 0 [complete]\n",
       "       Changed: 0"
      ]
     },
     "metadata": {},
     "output_type": "display_data"
    },
    {
     "data": {
      "text/html": [
       "<style>\n",
       ".list-inline {list-style: none; margin:0; padding: 0}\n",
       ".list-inline>li {display: inline-block}\n",
       ".list-inline>li:not(:last-child)::after {content: \"\\00b7\"; padding: 0 .5ex}\n",
       "</style>\n",
       "<ol class=list-inline><li>'compustat'</li><li>'cpi_monthly'</li><li>'crsp_monthly'</li><li>'factors_ff3_daily'</li><li>'factors_ff3_monthly'</li><li>'factors_ff5_monthly'</li><li>'factors_q_monthly'</li><li>'industries_ff_monthly'</li><li>'macro_predictors'</li></ol>\n"
      ],
      "text/latex": [
       "\\begin{enumerate*}\n",
       "\\item 'compustat'\n",
       "\\item 'cpi\\_monthly'\n",
       "\\item 'crsp\\_monthly'\n",
       "\\item 'factors\\_ff3\\_daily'\n",
       "\\item 'factors\\_ff3\\_monthly'\n",
       "\\item 'factors\\_ff5\\_monthly'\n",
       "\\item 'factors\\_q\\_monthly'\n",
       "\\item 'industries\\_ff\\_monthly'\n",
       "\\item 'macro\\_predictors'\n",
       "\\end{enumerate*}\n"
      ],
      "text/markdown": [
       "1. 'compustat'\n",
       "2. 'cpi_monthly'\n",
       "3. 'crsp_monthly'\n",
       "4. 'factors_ff3_daily'\n",
       "5. 'factors_ff3_monthly'\n",
       "6. 'factors_ff5_monthly'\n",
       "7. 'factors_q_monthly'\n",
       "8. 'industries_ff_monthly'\n",
       "9. 'macro_predictors'\n",
       "\n",
       "\n"
      ],
      "text/plain": [
       "[1] \"compustat\"             \"cpi_monthly\"           \"crsp_monthly\"         \n",
       "[4] \"factors_ff3_daily\"     \"factors_ff3_monthly\"   \"factors_ff5_monthly\"  \n",
       "[7] \"factors_q_monthly\"     \"industries_ff_monthly\" \"macro_predictors\"     "
      ]
     },
     "metadata": {},
     "output_type": "display_data"
    }
   ],
   "source": [
    "library(RSQLite)\n",
    "library(dbplyr)\n",
    "\n",
    "tidy_finance <- dbConnect(\n",
    "  SQLite(),\n",
    "  \"data/tidy_finance_r.sqlite\",\n",
    "  extended_types = TRUE\n",
    ")\n",
    "\n",
    "dbWriteTable(tidy_finance,\n",
    "  \"factors_ff3_monthly\",\n",
    "  value = factors_ff3_monthly,\n",
    "  overwrite = TRUE\n",
    ")\n",
    "\n",
    "factors_ff3_monthly_db <- tbl(tidy_finance, \"factors_ff3_monthly\")\n",
    "\n",
    "factors_ff3_monthly_db |>\n",
    "  select(month, rf)\n",
    "\n",
    "factors_ff3_monthly_db |>\n",
    "  select(month, rf) |>\n",
    "  collect()\n",
    "\n",
    "dbWriteTable(tidy_finance,\n",
    "  \"factors_ff5_monthly\",\n",
    "  value = factors_ff5_monthly,\n",
    "  overwrite = TRUE\n",
    ")\n",
    "\n",
    "dbWriteTable(tidy_finance,\n",
    "  \"factors_ff3_daily\",\n",
    "  value = factors_ff3_daily,\n",
    "  overwrite = TRUE\n",
    ")\n",
    "\n",
    "dbWriteTable(tidy_finance,\n",
    "  \"industries_ff_monthly\",\n",
    "  value = industries_ff_monthly,\n",
    "  overwrite = TRUE\n",
    ")\n",
    "\n",
    "dbWriteTable(tidy_finance,\n",
    "  \"factors_q_monthly\",\n",
    "  value = factors_q_monthly,\n",
    "  overwrite = TRUE\n",
    ")\n",
    "\n",
    "dbWriteTable(tidy_finance,\n",
    "  \"macro_predictors\",\n",
    "  value = macro_predictors,\n",
    "  overwrite = TRUE\n",
    ")\n",
    "\n",
    "dbWriteTable(tidy_finance,\n",
    "  \"cpi_monthly\",\n",
    "  value = cpi_monthly,\n",
    "  overwrite = TRUE\n",
    ")\n",
    "\n",
    "library(tidyverse)\n",
    "library(RSQLite)\n",
    "\n",
    "tidy_finance <- dbConnect(\n",
    "  SQLite(),\n",
    "  \"data/tidy_finance_r.sqlite\",\n",
    "  extended_types = TRUE\n",
    ")\n",
    "\n",
    "factors_q_monthly <- tbl(tidy_finance, \"factors_q_monthly\")\n",
    "factors_q_monthly <- factors_q_monthly |> collect()\n",
    "\n",
    "res <- dbSendQuery(tidy_finance, \"VACUUM\")\n",
    "res\n",
    "\n",
    "dbClearResult(res)\n",
    "\n",
    "dbListTables(tidy_finance)"
   ]
  },
  {
   "cell_type": "code",
   "execution_count": 20,
   "metadata": {
    "vscode": {
     "languageId": "r"
    }
   },
   "outputs": [
    {
     "data": {
      "text/html": [
       "<style>\n",
       ".list-inline {list-style: none; margin:0; padding: 0}\n",
       ".list-inline>li {display: inline-block}\n",
       ".list-inline>li:not(:last-child)::after {content: \"\\00b7\"; padding: 0 .5ex}\n",
       "</style>\n",
       "<ol class=list-inline><li>'compustat'</li><li>'cpi_monthly'</li><li>'crsp_monthly'</li><li>'factors_ff3_daily'</li><li>'factors_ff3_monthly'</li><li>'factors_ff5_monthly'</li><li>'factors_q_monthly'</li><li>'industries_ff_monthly'</li><li>'macro_predictors'</li></ol>\n"
      ],
      "text/latex": [
       "\\begin{enumerate*}\n",
       "\\item 'compustat'\n",
       "\\item 'cpi\\_monthly'\n",
       "\\item 'crsp\\_monthly'\n",
       "\\item 'factors\\_ff3\\_daily'\n",
       "\\item 'factors\\_ff3\\_monthly'\n",
       "\\item 'factors\\_ff5\\_monthly'\n",
       "\\item 'factors\\_q\\_monthly'\n",
       "\\item 'industries\\_ff\\_monthly'\n",
       "\\item 'macro\\_predictors'\n",
       "\\end{enumerate*}\n"
      ],
      "text/markdown": [
       "1. 'compustat'\n",
       "2. 'cpi_monthly'\n",
       "3. 'crsp_monthly'\n",
       "4. 'factors_ff3_daily'\n",
       "5. 'factors_ff3_monthly'\n",
       "6. 'factors_ff5_monthly'\n",
       "7. 'factors_q_monthly'\n",
       "8. 'industries_ff_monthly'\n",
       "9. 'macro_predictors'\n",
       "\n",
       "\n"
      ],
      "text/plain": [
       "[1] \"compustat\"             \"cpi_monthly\"           \"crsp_monthly\"         \n",
       "[4] \"factors_ff3_daily\"     \"factors_ff3_monthly\"   \"factors_ff5_monthly\"  \n",
       "[7] \"factors_q_monthly\"     \"industries_ff_monthly\" \"macro_predictors\"     "
      ]
     },
     "metadata": {},
     "output_type": "display_data"
    }
   ],
   "source": [
    "dbListTables(tidy_finance)"
   ]
  },
  {
   "cell_type": "markdown",
   "metadata": {},
   "source": [
    "# WRDS"
   ]
  },
  {
   "cell_type": "code",
   "execution_count": 21,
   "metadata": {
    "vscode": {
     "languageId": "r"
    }
   },
   "outputs": [],
   "source": [
    "library(tidyverse)\n",
    "library(scales)\n",
    "library(RSQLite)\n",
    "library(dbplyr)\n",
    "\n",
    "start_date <- ymd(\"1999-12-30\")\n",
    "end_date <- ymd(\"2024-3-21\")\n",
    "\n",
    "library(RPostgres)\n",
    "\n",
    "wrds <- dbConnect(\n",
    "  Postgres(),\n",
    "  host = \"wrds-pgdata.wharton.upenn.edu\",\n",
    "  dbname = \"wrds\",\n",
    "  port = 9737,\n",
    "  sslmode = \"require\",\n",
    "  user = Sys.getenv(\"econmphi\"),\n",
    "  password = Sys.getenv(\"Ko8ac9Ufi4tE\")\n",
    ")\n",
    "\n",
    "msf_db <- tbl(wrds, in_schema(\"crsp\", \"msf\"))\n",
    "msenames_db <- tbl(wrds, in_schema(\"crsp\", \"msenames\"))\n",
    "msedelist_db <- tbl(wrds, in_schema(\"crsp\", \"msedelist\"))\n"
   ]
  },
  {
   "cell_type": "code",
   "execution_count": 22,
   "metadata": {
    "vscode": {
     "languageId": "r"
    }
   },
   "outputs": [],
   "source": [
    "crsp_monthly <- msf_db |>\n",
    "  filter(date >= start_date & date <= end_date) |>\n",
    "  inner_join(\n",
    "    msenames_db |>\n",
    "      filter(shrcd %in% c(10, 11)) |>\n",
    "      select(permno, exchcd, siccd, namedt, nameendt),\n",
    "    join_by(permno)\n",
    "  ) |>\n",
    "  filter(date >= namedt & date <= nameendt) |>\n",
    "  mutate(month = floor_date(date, \"month\")) |>\n",
    "  left_join(\n",
    "    msedelist_db |>\n",
    "      select(permno, dlstdt, dlret, dlstcd) |>\n",
    "      mutate(month = floor_date(dlstdt, \"month\")),\n",
    "    join_by(permno, month)\n",
    "  ) |>\n",
    "  select(\n",
    "    permno, # Security identifier\n",
    "    date, # Date of the observation\n",
    "    month, # Month of the observation\n",
    "    ret, # Return\n",
    "    shrout, # Shares outstanding (in thousands)\n",
    "    altprc, # Last traded price in a month\n",
    "    exchcd, # Exchange code\n",
    "    siccd, # Industry code\n",
    "    dlret, # Delisting return\n",
    "    dlstcd # Delisting code\n",
    "  ) |>\n",
    "  collect() |>\n",
    "  mutate(\n",
    "    month = ymd(month),\n",
    "    shrout = shrout * 1000\n",
    "  )\n",
    "  "
   ]
  },
  {
   "cell_type": "code",
   "execution_count": 23,
   "metadata": {
    "vscode": {
     "languageId": "r"
    }
   },
   "outputs": [],
   "source": [
    "crsp_monthly <- crsp_monthly |>\n",
    "  mutate(\n",
    "    mktcap = abs(shrout * altprc) / 10^6,\n",
    "    mktcap = na_if(mktcap, 0)\n",
    "  )\n",
    "\n",
    "mktcap_lag <- crsp_monthly |>\n",
    "  mutate(month = month %m+% months(1)) |>\n",
    "  select(permno, month, mktcap_lag = mktcap)\n",
    "\n",
    "crsp_monthly <- crsp_monthly |>\n",
    "  left_join(mktcap_lag, join_by(permno, month))\n",
    "\n",
    "crsp_monthly <- crsp_monthly |>\n",
    "  mutate(exchange = case_when(\n",
    "    exchcd %in% c(1, 31) ~ \"NYSE\",\n",
    "    exchcd %in% c(2, 32) ~ \"AMEX\",\n",
    "    exchcd %in% c(3, 33) ~ \"NASDAQ\",\n",
    "    .default = \"Other\"\n",
    "  ))\n",
    "\n",
    "crsp_monthly <- crsp_monthly |>\n",
    "  mutate(industry = case_when(\n",
    "    siccd >= 1 & siccd <= 999 ~ \"Agriculture\",\n",
    "    siccd >= 1000 & siccd <= 1499 ~ \"Mining\",\n",
    "    siccd >= 1500 & siccd <= 1799 ~ \"Construction\",\n",
    "    siccd >= 2000 & siccd <= 3999 ~ \"Manufacturing\",\n",
    "    siccd >= 4000 & siccd <= 4899 ~ \"Transportation\",\n",
    "    siccd >= 4900 & siccd <= 4999 ~ \"Utilities\",\n",
    "    siccd >= 5000 & siccd <= 5199 ~ \"Wholesale\",\n",
    "    siccd >= 5200 & siccd <= 5999 ~ \"Retail\",\n",
    "    siccd >= 6000 & siccd <= 6799 ~ \"Finance\",\n",
    "    siccd >= 7000 & siccd <= 8999 ~ \"Services\",\n",
    "    siccd >= 9000 & siccd <= 9999 ~ \"Public\",\n",
    "    .default = \"Missing\"\n",
    "  ))\n",
    "\n",
    "crsp_monthly <- crsp_monthly |>\n",
    "  mutate(ret_adj = case_when(\n",
    "    is.na(dlstcd) ~ ret,\n",
    "    !is.na(dlstcd) & !is.na(dlret) ~ dlret,\n",
    "    dlstcd %in% c(500, 520, 580, 584) |\n",
    "      (dlstcd >= 551 & dlstcd <= 574) ~ -0.30,\n",
    "    dlstcd == 100 ~ ret,\n",
    "    .default = -1\n",
    "  )) |>\n",
    "  select(-c(dlret, dlstcd))\n",
    "\n",
    "\n",
    "tidy_finance <- dbConnect(\n",
    "  SQLite(),\n",
    "  \"data/tidy_finance_r.sqlite\",\n",
    "  extended_types = TRUE\n",
    ")\n",
    "\n",
    "factors_ff3_monthly <- tbl(tidy_finance, \"factors_ff3_monthly\") |>\n",
    "  select(month, rf) |>\n",
    "  collect()\n",
    "\n",
    "crsp_monthly <- crsp_monthly |>\n",
    "  left_join(factors_ff3_monthly,\n",
    "    join_by(month)\n",
    "  ) |>\n",
    "  mutate(\n",
    "    ret_excess = ret_adj - rf,\n",
    "    ret_excess = pmax(ret_excess, -1)\n",
    "  ) |>\n",
    "  select(-ret_adj, -rf)\n",
    "\n",
    "crsp_monthly <- crsp_monthly |>\n",
    "  drop_na(ret_excess, mktcap, mktcap_lag)\n",
    "\n",
    "dbWriteTable(tidy_finance,\n",
    "  \"crsp_monthly\",\n",
    "  value = crsp_monthly,\n",
    "  overwrite = TRUE\n",
    ")"
   ]
  },
  {
   "cell_type": "markdown",
   "metadata": {},
   "source": [
    "# Daily CRSP Data"
   ]
  },
  {
   "cell_type": "code",
   "execution_count": 24,
   "metadata": {
    "vscode": {
     "languageId": "r"
    }
   },
   "outputs": [],
   "source": [
    "# dsf_db <- tbl(wrds, in_schema(\"crsp\", \"dsf\"))\n",
    "\n",
    "# factors_ff3_daily <- tbl(tidy_finance, \"factors_ff3_daily\") |>\n",
    "#   collect()\n",
    "\n",
    "# permnos <- tbl(tidy_finance, \"crsp_monthly\") |>\n",
    "#   distinct(permno) |>\n",
    "#   pull()\n",
    "\n",
    "# batch_size <- 500\n",
    "# batches <- ceiling(length(permnos) / batch_size)\n",
    "\n",
    "# for (j in 1:batches) {\n",
    "  \n",
    "#   permno_batch <- permnos[\n",
    "#     ((j - 1) * batch_size + 1):min(j * batch_size, length(permnos))\n",
    "#   ]\n",
    "\n",
    "#   crsp_daily_sub <- dsf_db |>\n",
    "#     filter(permno %in% permno_batch &\n",
    "#              date >= start_date & date <= end_date) |>\n",
    "#     select(permno, date, ret) |>\n",
    "#     collect() |>\n",
    "#     drop_na()\n",
    "\n",
    "#   if (nrow(crsp_daily_sub) > 0) {\n",
    "    \n",
    "#     msedelist_sub <- msedelist_db |> \n",
    "#     filter(permno %in% permno_batch) |> \n",
    "#     select(permno, dlstdt, dlret) |> \n",
    "#     collect() |>\n",
    "#     drop_na()\n",
    "    \n",
    "#     crsp_daily_sub <- crsp_daily_sub |> \n",
    "#       left_join(msedelist_sub, join_by(permno, date == dlstdt)) |> \n",
    "#       bind_rows(msedelist_sub |> \n",
    "#                   anti_join(crsp_daily_sub, \n",
    "#                             join_by(permno, dlstdt == date))) |> \n",
    "#       mutate(ret = if_else(!is.na(dlret), dlret, ret),\n",
    "#              date = if_else(!is.na(dlstdt), dlstdt, date)) |> \n",
    "#       select(-c(dlret, dlstdt)) |> \n",
    "#       left_join(msedelist_sub |> \n",
    "#                   select(permno, dlstdt), join_by(permno)) |> \n",
    "#       mutate(dlstdt = replace_na(dlstdt, end_date)) |> \n",
    "#       filter(date <= dlstdt) |> \n",
    "#       select(-dlstdt)\n",
    "    \n",
    "#     crsp_daily_sub <- crsp_daily_sub |>\n",
    "#       mutate(month = floor_date(date, \"month\")) |>\n",
    "#       left_join(factors_ff3_daily |>\n",
    "#         select(date, rf), join_by(date)) |>\n",
    "#       mutate(\n",
    "#         ret_excess = ret - rf,\n",
    "#         ret_excess = pmax(ret_excess, -1)\n",
    "#       ) |>\n",
    "#       select(permno, date, month, ret, ret_excess)\n",
    "\n",
    "#     dbWriteTable(tidy_finance,\n",
    "#       \"crsp_daily\",\n",
    "#       value = crsp_daily_sub,\n",
    "#       overwrite = ifelse(j == 1, TRUE, FALSE),\n",
    "#       append = ifelse(j != 1, TRUE, FALSE)\n",
    "#     )\n",
    "#   }\n",
    "\n",
    "#   cat(\"Batch\", j, \"out of\", batches, \"done (\", percent(j / batches), \")\\n\")\n",
    "# }"
   ]
  },
  {
   "cell_type": "markdown",
   "metadata": {},
   "source": [
    "# Compustat data"
   ]
  },
  {
   "cell_type": "code",
   "execution_count": 25,
   "metadata": {
    "vscode": {
     "languageId": "r"
    }
   },
   "outputs": [],
   "source": [
    "funda_db <- tbl(wrds, in_schema(\"comp\", \"funda\"))\n",
    "\n",
    "compustat <- funda_db |>\n",
    "  filter(\n",
    "    indfmt == \"INDL\" &\n",
    "      datafmt == \"STD\" &\n",
    "      consol == \"C\" &\n",
    "      datadate >= start_date & datadate <= end_date\n",
    "  ) |>\n",
    "  select(\n",
    "    gvkey, # Firm identifier\n",
    "    datadate, # Date of the accounting data\n",
    "    seq, # Stockholders' equity\n",
    "    ceq, # Total common/ordinary equity\n",
    "    at, # Total assets\n",
    "    lt, # Total liabilities\n",
    "    txditc, # Deferred taxes and investment tax credit\n",
    "    txdb, # Deferred taxes\n",
    "    itcb, # Investment tax credit\n",
    "    pstkrv, # Preferred stock redemption value\n",
    "    pstkl, # Preferred stock liquidating value\n",
    "    pstk, # Preferred stock par value\n",
    "    capx, # Capital investment\n",
    "    oancf, # Operating cash flow\n",
    "    sale,  # Revenue\n",
    "    cogs, # Costs of goods sold\n",
    "    xint, # Interest expense\n",
    "    xsga # Selling, general, and administrative expenses\n",
    "  ) |>\n",
    "  collect()\n",
    "\n",
    "compustat <- compustat |>\n",
    "  mutate(\n",
    "    be = coalesce(seq, ceq + pstk, at - lt) +\n",
    "      coalesce(txditc, txdb + itcb, 0) -\n",
    "      coalesce(pstkrv, pstkl, pstk, 0),\n",
    "    be = if_else(be <= 0, NA, be),\n",
    "    op = (sale - coalesce(cogs, 0) - \n",
    "            coalesce(xsga, 0) - coalesce(xint, 0)) / be,\n",
    "  )\n",
    "\n",
    "compustat <- compustat |>\n",
    "  mutate(year = year(datadate)) |>\n",
    "  group_by(gvkey, year) |>\n",
    "  filter(datadate == max(datadate)) |>\n",
    "  ungroup()\n",
    "\n",
    "compustat <- compustat |> \n",
    "  left_join(\n",
    "    compustat |> \n",
    "      select(gvkey, year, at_lag = at) |> \n",
    "      mutate(year = year + 1), \n",
    "    join_by(gvkey, year)\n",
    "  ) |> \n",
    "  mutate(\n",
    "    inv = at / at_lag - 1,\n",
    "    inv = if_else(at_lag <= 0, NA, inv)\n",
    "  )\n",
    "\n",
    "dbWriteTable(tidy_finance,\n",
    "  \"compustat\",\n",
    "  value = compustat,\n",
    "  overwrite = TRUE\n",
    ")"
   ]
  },
  {
   "cell_type": "markdown",
   "metadata": {},
   "source": [
    "# Merging"
   ]
  },
  {
   "cell_type": "code",
   "execution_count": 26,
   "metadata": {
    "vscode": {
     "languageId": "r"
    }
   },
   "outputs": [],
   "source": [
    "ccmxpf_linktable_db <- tbl(\n",
    "  wrds,\n",
    "  in_schema(\"crsp\", \"ccmxpf_linktable\")\n",
    ")\n",
    "\n",
    "ccmxpf_linktable <- ccmxpf_linktable_db |>\n",
    "  filter(linktype %in% c(\"LU\", \"LC\") &\n",
    "    linkprim %in% c(\"P\", \"C\") &\n",
    "    usedflag == 1) |>\n",
    "  select(permno = lpermno, gvkey, linkdt, linkenddt) |>\n",
    "  collect() |>\n",
    "  mutate(linkenddt = replace_na(linkenddt, today()))\n",
    "\n",
    "ccm_links <- crsp_monthly |>\n",
    "  inner_join(ccmxpf_linktable, \n",
    "             join_by(permno), relationship = \"many-to-many\") |>\n",
    "  filter(!is.na(gvkey) & \n",
    "           (date >= linkdt & date <= linkenddt)) |>\n",
    "  select(permno, gvkey, date)\n",
    "\n",
    "crsp_monthly <- crsp_monthly |>\n",
    "  left_join(ccm_links, join_by(permno, date))\n",
    "\n",
    "\n",
    "dbWriteTable(tidy_finance,\n",
    "  \"crsp_monthly\",\n",
    "  value = crsp_monthly,\n",
    "  overwrite = TRUE\n",
    ")\n"
   ]
  },
  {
   "cell_type": "markdown",
   "metadata": {},
   "source": [
    "# Visualization"
   ]
  },
  {
   "cell_type": "code",
   "execution_count": 27,
   "metadata": {
    "vscode": {
     "languageId": "r"
    }
   },
   "outputs": [
    {
     "data": {
      "image/png": "[encoded data removed]",
      "text/plain": [
       "plot without title"
      ]
     },
     "metadata": {
      "image/png": {
       "height": 420,
       "width": 420
      }
     },
     "output_type": "display_data"
    }
   ],
   "source": [
    "crsp_monthly |>\n",
    "  group_by(permno, year = year(month)) |>\n",
    "  filter(date == max(date)) |>\n",
    "  ungroup() |>\n",
    "  left_join(compustat, join_by(gvkey, year)) |>\n",
    "  group_by(exchange, year) |>\n",
    "  summarize(\n",
    "    share = n_distinct(permno[!is.na(be)]) / n_distinct(permno),\n",
    "    .groups = \"drop\"\n",
    "  ) |>\n",
    "  ggplot(aes(\n",
    "    x = year, \n",
    "    y = share, \n",
    "    color = exchange,\n",
    "    linetype = exchange\n",
    "    )) +\n",
    "  geom_line() +\n",
    "  labs(\n",
    "    x = NULL, y = NULL, color = NULL, linetype = NULL,\n",
    "    title = \"Share of securities with book equity values by exchange\"\n",
    "  ) +\n",
    "  scale_y_continuous(labels = percent) +\n",
    "  coord_cartesian(ylim = c(0, 1))"
   ]
  },
  {
   "cell_type": "markdown",
   "metadata": {},
   "source": [
    "# Summary"
   ]
  },
  {
   "cell_type": "code",
   "execution_count": 28,
   "metadata": {
    "vscode": {
     "languageId": "r"
    }
   },
   "outputs": [
    {
     "data": {
      "text/html": [
       "<style>\n",
       ".list-inline {list-style: none; margin:0; padding: 0}\n",
       ".list-inline>li {display: inline-block}\n",
       ".list-inline>li:not(:last-child)::after {content: \"\\00b7\"; padding: 0 .5ex}\n",
       "</style>\n",
       "<ol class=list-inline><li>'compustat'</li><li>'cpi_monthly'</li><li>'crsp_monthly'</li><li>'factors_ff3_daily'</li><li>'factors_ff3_monthly'</li><li>'factors_ff5_monthly'</li><li>'factors_q_monthly'</li><li>'industries_ff_monthly'</li><li>'macro_predictors'</li></ol>\n"
      ],
      "text/latex": [
       "\\begin{enumerate*}\n",
       "\\item 'compustat'\n",
       "\\item 'cpi\\_monthly'\n",
       "\\item 'crsp\\_monthly'\n",
       "\\item 'factors\\_ff3\\_daily'\n",
       "\\item 'factors\\_ff3\\_monthly'\n",
       "\\item 'factors\\_ff5\\_monthly'\n",
       "\\item 'factors\\_q\\_monthly'\n",
       "\\item 'industries\\_ff\\_monthly'\n",
       "\\item 'macro\\_predictors'\n",
       "\\end{enumerate*}\n"
      ],
      "text/markdown": [
       "1. 'compustat'\n",
       "2. 'cpi_monthly'\n",
       "3. 'crsp_monthly'\n",
       "4. 'factors_ff3_daily'\n",
       "5. 'factors_ff3_monthly'\n",
       "6. 'factors_ff5_monthly'\n",
       "7. 'factors_q_monthly'\n",
       "8. 'industries_ff_monthly'\n",
       "9. 'macro_predictors'\n",
       "\n",
       "\n"
      ],
      "text/plain": [
       "[1] \"compustat\"             \"cpi_monthly\"           \"crsp_monthly\"         \n",
       "[4] \"factors_ff3_daily\"     \"factors_ff3_monthly\"   \"factors_ff5_monthly\"  \n",
       "[7] \"factors_q_monthly\"     \"industries_ff_monthly\" \"macro_predictors\"     "
      ]
     },
     "metadata": {},
     "output_type": "display_data"
    }
   ],
   "source": [
    "dbListTables(tidy_finance)"
   ]
  }
 ],
 "metadata": {
  "kernelspec": {
   "display_name": "R",
   "language": "R",
   "name": "ir"
  },
  "language_info": {
   "codemirror_mode": "r",
   "file_extension": ".r",
   "mimetype": "text/x-r-source",
   "name": "R",
   "pygments_lexer": "r",
   "version": "4.3.2"
  }
 },
 "nbformat": 4,
 "nbformat_minor": 2
}
