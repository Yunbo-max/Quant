{
 "cells": [
  {
   "cell_type": "code",
   "execution_count": 1,
   "metadata": {},
   "outputs": [
    {
     "name": "stdout",
     "output_type": "stream",
     "text": [
      "Tables in the database:\n",
      "factors_ff3_monthly\n",
      "factors_ff5_monthly\n",
      "factors_ff3_daily\n",
      "industries_ff_monthly\n",
      "factors_q_monthly\n",
      "macro_predictors\n",
      "cpi_monthly\n",
      "compustat\n",
      "crsp_monthly\n"
     ]
    }
   ],
   "source": [
    "import sqlite3\n",
    "\n",
    "# Connect to the SQLite database\n",
    "conn = sqlite3.connect('data/tidy_finance_r.sqlite')\n",
    "\n",
    "# Create a cursor object to execute SQL queries\n",
    "cursor = conn.cursor()\n",
    "\n",
    "# Get a list of all tables in the database\n",
    "cursor.execute(\"SELECT name FROM sqlite_master WHERE type='table';\")\n",
    "tables = cursor.fetchall()\n",
    "\n",
    "# Extract table names from the result\n",
    "table_names = [table[0] for table in tables]\n",
    "\n",
    "# Print the list of table names\n",
    "print(\"Tables in the database:\")\n",
    "for table_name in table_names:\n",
    "    print(table_name)\n",
    "\n",
    "# Close the connection\n",
    "conn.close()"
   ]
  },
  {
   "cell_type": "code",
   "execution_count": 2,
   "metadata": {},
   "outputs": [],
   "source": [
    "import pandas as pd\n",
    "import numpy as np\n",
    "import sqlite3\n",
    "import statsmodels.formula.api as smf\n",
    "\n",
    "from regtabletotext import prettify_result\n",
    "from statsmodels.regression.rolling import RollingOLS\n",
    "from plotnine import *\n",
    "from mizani.breaks import date_breaks\n",
    "from mizani.formatters import percent_format, date_format\n",
    "from joblib import Parallel, delayed, cpu_count\n",
    "from itertools import product\n",
    "\n",
    "\n",
    "tidy_finance = sqlite3.connect(database=\"data/tidy_finance_r.sqlite\")\n",
    "\n",
    "crsp_monthly = (pd.read_sql_query(\n",
    "    sql=\"SELECT permno, month, industry, ret_excess FROM crsp_monthly\",\n",
    "    con=tidy_finance,\n",
    "    parse_dates={\"month\"})\n",
    "  .dropna()\n",
    ")\n",
    "\n",
    "factors_ff3_monthly = pd.read_sql_query(\n",
    "  sql=\"SELECT month, mkt_excess FROM factors_ff3_monthly\",\n",
    "  con=tidy_finance,\n",
    "  parse_dates={\"month\"}\n",
    ")\n",
    "\n",
    "crsp_monthly = (crsp_monthly\n",
    "  .merge(factors_ff3_monthly, how=\"left\", on=\"month\")\n",
    ")\n"
   ]
  },
  {
   "cell_type": "code",
   "execution_count": 3,
   "metadata": {},
   "outputs": [
    {
     "name": "stdout",
     "output_type": "stream",
     "text": [
      "OLS Model:\n",
      "ret_excess ~ mkt_excess\n",
      "\n",
      "Coefficients:\n",
      "            Estimate  Std. Error  t-Statistic  p-Value\n",
      "Intercept      0.010       0.005        2.003    0.046\n",
      "mkt_excess     1.389       0.111       12.467    0.000\n",
      "\n",
      "Summary statistics:\n",
      "- Number of observations: 504\n",
      "- R-squared: 0.236, Adjusted R-squared: 0.235\n",
      "- F-statistic: 155.423 on 1 and 502 DF, p-value: 0.000\n",
      "\n"
     ]
    }
   ],
   "source": [
    "model_beta = (smf.ols(\n",
    "    formula=\"ret_excess ~ mkt_excess\",\n",
    "    data=crsp_monthly.query(\"permno == 14593\"))\n",
    "  .fit()\n",
    ")\n",
    "prettify_result(model_beta)"
   ]
  },
  {
   "cell_type": "code",
   "execution_count": 4,
   "metadata": {},
   "outputs": [],
   "source": [
    "window_size = 60\n",
    "min_obs = 48\n",
    "\n",
    "valid_permnos = (crsp_monthly\n",
    "  .dropna()\n",
    "  .groupby(\"permno\")[\"permno\"]\n",
    "  .count()\n",
    "  .reset_index(name=\"counts\")\n",
    "  .query(f\"counts > {window_size}+1\")\n",
    ")"
   ]
  }
 ],
 "metadata": {
  "kernelspec": {
   "display_name": "quant",
   "language": "python",
   "name": "python3"
  },
  "language_info": {
   "codemirror_mode": {
    "name": "ipython",
    "version": 3
   },
   "file_extension": ".py",
   "mimetype": "text/x-python",
   "name": "python",
   "nbconvert_exporter": "python",
   "pygments_lexer": "ipython3",
   "version": "3.9.18"
  }
 },
 "nbformat": 4,
 "nbformat_minor": 2
}
