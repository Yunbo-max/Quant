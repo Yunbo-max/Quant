{
 "cells": [
  {
   "cell_type": "code",
   "execution_count": 1,
   "metadata": {},
   "outputs": [],
   "source": [
    "import pandas as pd\n",
    "import numpy as np\n",
    "import sqlite3\n",
    "import statsmodels.formula.api as smf\n",
    "\n",
    "from regtabletotext import prettify_result\n",
    "from statsmodels.regression.rolling import RollingOLS\n",
    "from plotnine import *\n",
    "from mizani.breaks import date_breaks\n",
    "from mizani.formatters import percent_format, date_format\n",
    "from joblib import Parallel, delayed, cpu_count\n",
    "from itertools import product\n",
    "\n",
    "\n",
    "tidy_finance = sqlite3.connect(database=\"data/tidy_finance_python.sqlite\")\n",
    "\n",
    "crsp_monthly = (pd.read_sql_query(\n",
    "    sql=\"SELECT permno, month, industry, ret_excess FROM crsp_monthly\",\n",
    "    con=tidy_finance,\n",
    "    parse_dates={\"month\"})\n",
    "  .dropna()\n",
    ")\n",
    "\n",
    "factors_ff3_monthly = pd.read_sql_query(\n",
    "  sql=\"SELECT month, mkt_excess FROM factors_ff3_monthly\",\n",
    "  con=tidy_finance,\n",
    "  parse_dates={\"month\"}\n",
    ")\n",
    "\n",
    "crsp_monthly = (crsp_monthly\n",
    "  .merge(factors_ff3_monthly, how=\"left\", on=\"month\")\n",
    ")"
   ]
  },
  {
   "cell_type": "code",
   "execution_count": 2,
   "metadata": {},
   "outputs": [],
   "source": [
    "tidy_finance = sqlite3.connect(database=\"data/tidy_finance_python.sqlite\")\n",
    "\n",
    "crsp_monthly = (pd.read_sql_query(\n",
    "    sql=\"SELECT permno, month, industry, ret_excess FROM crsp_monthly\",\n",
    "    con=tidy_finance,\n",
    "    parse_dates={\"month\"})\n",
    "  .dropna()\n",
    ")\n",
    "\n",
    "factors_ff3_monthly = pd.read_sql_query(\n",
    "  sql=\"SELECT month, mkt_excess FROM factors_ff3_monthly\",\n",
    "  con=tidy_finance,\n",
    "  parse_dates={\"month\"}\n",
    ")\n",
    "\n",
    "crsp_monthly = (crsp_monthly\n",
    "  .merge(factors_ff3_monthly, how=\"left\", on=\"month\")\n",
    ")\n",
    "\n",
    "model_beta = (smf.ols(\n",
    "    formula=\"ret_excess ~ mkt_excess\",\n",
    "    data=crsp_monthly.query(\"permno == 14593\"))\n",
    "  .fit()\n",
    ")\n",
    "prettify_result(model_beta)"
   ]
  }
 ],
 "metadata": {
  "kernelspec": {
   "display_name": "quant",
   "language": "python",
   "name": "python3"
  },
  "language_info": {
   "codemirror_mode": {
    "name": "ipython",
    "version": 3
   },
   "file_extension": ".py",
   "mimetype": "text/x-python",
   "name": "python",
   "nbconvert_exporter": "python",
   "pygments_lexer": "ipython3",
   "version": "3.9.18"
  }
 },
 "nbformat": 4,
 "nbformat_minor": 2
}
