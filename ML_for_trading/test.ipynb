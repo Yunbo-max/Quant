{
 "cells": [
  {
   "cell_type": "code",
   "execution_count": 13,
   "metadata": {
    "vscode": {
     "languageId": "r"
    }
   },
   "outputs": [],
   "source": [
    "# Load packages and symbols\n",
    "library(tidyverse)\n",
    "library(lubridate)\n",
    "library(readxl)\n",
    "library(highcharter)\n",
    "library(tidyquant)\n",
    "library(timetk)\n",
    "library(tibbletime)\n",
    "library(quantmod) \n",
    "library(PerformanceAnalytics)\n",
    "library(scales)\n",
    "library(sandwich) # new!\n",
    "library(SharpeR) # new!\n",
    "library(PortfolioAnalytics) # new!\n",
    "symbols = c(\"SPY\",\"EFA\",\"IJS\",\"EEM\",\"AGG\")"
   ]
  },
  {
   "cell_type": "code",
   "execution_count": 14,
   "metadata": {
    "vscode": {
     "languageId": "r"
    }
   },
   "outputs": [],
   "source": [
    "prices <-\n",
    "  getSymbols(symbols, src = 'yahoo',\n",
    "             from = \"2012-12-31\",\n",
    "             to = \"2022-01-17\",\n",
    "             auto.assign = TRUE,\n",
    "             warnings = FALSE) %>%\n",
    "  map(~Ad(get(.))) %>%\n",
    "  reduce(merge) %>%\n",
    "  `colnames<-`(symbols)\n",
    "prices_monthly =\n",
    "  to.monthly(prices, indexAt=\"lastof\", OHLC = FALSE)\n",
    "returns_xts <-\n",
    "  Return.calculate(prices_monthly,\n",
    "                 method = \"log\") %>%\n",
    "na.omit()"
   ]
  },
  {
   "cell_type": "code",
   "execution_count": 15,
   "metadata": {
    "vscode": {
     "languageId": "r"
    }
   },
   "outputs": [
    {
     "data": {
      "text/html": [
       "<table class=\"dataframe\">\n",
       "<caption>A tibble: 5 x 2</caption>\n",
       "<thead>\n",
       "\t<tr><th scope=col>w</th><th scope=col>symbols</th></tr>\n",
       "\t<tr><th scope=col>&lt;dbl&gt;</th><th scope=col>&lt;chr&gt;</th></tr>\n",
       "</thead>\n",
       "<tbody>\n",
       "\t<tr><td>0.25</td><td>SPY</td></tr>\n",
       "\t<tr><td>0.25</td><td>EFA</td></tr>\n",
       "\t<tr><td>0.20</td><td>IJS</td></tr>\n",
       "\t<tr><td>0.20</td><td>EEM</td></tr>\n",
       "\t<tr><td>0.10</td><td>AGG</td></tr>\n",
       "</tbody>\n",
       "</table>\n"
      ],
      "text/latex": [
       "A tibble: 5 x 2\n",
       "\\begin{tabular}{ll}\n",
       " w & symbols\\\\\n",
       " <dbl> & <chr>\\\\\n",
       "\\hline\n",
       "\t 0.25 & SPY\\\\\n",
       "\t 0.25 & EFA\\\\\n",
       "\t 0.20 & IJS\\\\\n",
       "\t 0.20 & EEM\\\\\n",
       "\t 0.10 & AGG\\\\\n",
       "\\end{tabular}\n"
      ],
      "text/markdown": [
       "\n",
       "A tibble: 5 x 2\n",
       "\n",
       "| w &lt;dbl&gt; | symbols &lt;chr&gt; |\n",
       "|---|---|\n",
       "| 0.25 | SPY |\n",
       "| 0.25 | EFA |\n",
       "| 0.20 | IJS |\n",
       "| 0.20 | EEM |\n",
       "| 0.10 | AGG |\n",
       "\n"
      ],
      "text/plain": [
       "  w    symbols\n",
       "1 0.25 SPY    \n",
       "2 0.25 EFA    \n",
       "3 0.20 IJS    \n",
       "4 0.20 EEM    \n",
       "5 0.10 AGG    "
      ]
     },
     "metadata": {},
     "output_type": "display_data"
    },
    {
     "data": {
      "text/plain": [
       "                 returns\n",
       "2013-01-31  0.0308488138\n",
       "2013-02-28 -0.0008696856\n",
       "2013-03-31  0.0186624693"
      ]
     },
     "metadata": {},
     "output_type": "display_data"
    }
   ],
   "source": [
    "w <- c(0.25,\n",
    "       0.25,\n",
    "       0.20,\n",
    "       0.20,\n",
    "       0.10)\n",
    "\n",
    "tibble(w,symbols)\n",
    "\n",
    "asset1 <- returns_xts[,1]\n",
    "asset2 <- returns_xts[,2]\n",
    "asset3 <- returns_xts[,3]\n",
    "asset4 <- returns_xts[,4]\n",
    "asset5 <- returns_xts[,5]\n",
    "portfolio_returns_byhand <-\n",
    "  (w[1] * asset1) +\n",
    "  (w[2] * asset2) +\n",
    "  (w[3] * asset3) +\n",
    "  (w[4] * asset4) +\n",
    "  (w[5] * asset5)\n",
    "names(portfolio_returns_byhand) <- \"returns\"\n",
    "\n",
    "\n",
    "portfolio_returns_byhand <-\n",
    "  t(w%*%t(returns_xts))\n",
    "names(portfolio_returns_byhand) <- \"returns\"\n",
    "\n",
    "\n",
    "portfolio_returns_xts_rebalanced_monthly <-\n",
    "  Return.portfolio(returns_xts, weights = w,\n",
    "                   rebalance_on = \"months\") %>%\n",
    "  `colnames<-`(\"returns\")\n",
    "head(portfolio_returns_xts_rebalanced_monthly,3)"
   ]
  },
  {
   "cell_type": "code",
   "execution_count": 16,
   "metadata": {
    "vscode": {
     "languageId": "r"
    }
   },
   "outputs": [
    {
     "ename": "ERROR",
     "evalue": "Error in eval(expr, envir, enclos): object 'returns_long' not found\n",
     "output_type": "error",
     "traceback": [
      "Error in eval(expr, envir, enclos): object 'returns_long' not found\nTraceback:\n",
      "1. returns_long %>% tq_portfolio(assets_col = asset, returns_col = returns, \n .     weights = w, col_rename = \"returns\", rebalance_on = \"months\")",
      "2. tq_portfolio(., assets_col = asset, returns_col = returns, weights = w, \n .     col_rename = \"returns\", rebalance_on = \"months\")",
      "3. tq_portfolio_(data = data, assets_col = lazyeval::expr_text(assets_col), \n .     returns_col = lazyeval::expr_text(returns_col), weights = weights, \n .     col_rename = col_rename, ... = ...)"
     ]
    }
   ],
   "source": [
    "portfolio_returns_tq_rebalanced_monthly <-\n",
    "  returns_long %>%\n",
    "  tq_portfolio(assets_col  = asset,\n",
    "               returns_col = returns,\n",
    "               weights     = w,\n",
    "               col_rename  = \"returns\",\n",
    "               rebalance_on = \"months\")"
   ]
  }
 ],
 "metadata": {
  "kernelspec": {
   "display_name": "R",
   "language": "R",
   "name": "ir"
  },
  "language_info": {
   "codemirror_mode": "r",
   "file_extension": ".r",
   "mimetype": "text/x-r-source",
   "name": "R",
   "pygments_lexer": "r",
   "version": "4.3.2"
  }
 },
 "nbformat": 4,
 "nbformat_minor": 2
}
