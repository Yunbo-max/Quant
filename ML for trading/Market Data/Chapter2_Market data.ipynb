{
 "cells": [
  {
   "cell_type": "markdown",
   "metadata": {},
   "source": [
    "# Order Book as a Primary Source of Market Data\n",
    "\n",
    "The order book is a real-time record of buy and sell orders in a particular market. It reflects the current supply and demand for a particular asset (like stocks) and provides insight into potential future price movements. This information is crucial for traders and investors to make informed decisions about buying or selling securities.\n",
    "\n",
    "## Data Tiers in the United States\n",
    "\n",
    "### Level I\n",
    "\n",
    "- Provides basic real-time bid and ask prices.\n",
    "- This information is readily available from various online sources.\n",
    "- Useful for understanding the current market prices but lacks detailed information about market depth.\n",
    "\n",
    "### Level II\n",
    "\n",
    "- Adds more granularity by providing information about bid and ask prices from specific market makers.\n",
    "- Also includes details about the size and time of recent transactions, giving traders a better understanding of the liquidity in the market.\n",
    "\n",
    "### Level III\n",
    "\n",
    "- Offers the highest level of detail and functionality.\n",
    "- Allows market makers and exchange member firms to enter or change quotes, execute orders, and confirm trades.\n",
    "- Access to Level III quotes is crucial for registered brokers to meet best execution requirements.\n",
    "\n",
    "## Data Examples\n",
    "\n",
    "### Level I Data\n",
    "\n",
    "If you check a stock quote on a financial news website or your brokerage platform, you're likely seeing Level I data. It typically shows the current bid and ask prices for a particular stock.\n",
    "\n",
    "### Level II Data\n",
    "\n",
    "When using a trading platform that provides more detailed market information, you might see Level II data. This could include a list of market makers and their respective bid and ask prices, along with recent transaction information.\n",
    "\n",
    "### Level III Data\n",
    "\n",
    "Only market makers and exchange member firms have access to Level III data. For instance, a market maker could use Level III data to enter new quotes, update existing quotes, execute orders, and confirm trades, all in real-time.\n"
   ]
  },
  {
   "cell_type": "markdown",
   "metadata": {},
   "source": []
  },
  {
   "cell_type": "markdown",
   "metadata": {},
   "source": [
    "## Trading Activity and Messages:\n",
    "\n",
    "Trading activity generates a significant number of messages about orders sent by market participants. These messages typically adhere to the Financial Information eXchange (FIX) protocol. FIX is an industry-standard protocol for the real-time exchange of securities transactions and market data. Alternatively, exchanges may use their native protocols for communication.\n",
    "\n",
    "### FIX Protocol:\n",
    "\n",
    "FIX is a set of rules designed to facilitate fast and reliable electronic communication for securities transactions. It standardizes the way financial transactions are communicated, allowing different entities to connect and trade seamlessly. FIX is widely adopted in the financial industry, including stock exchanges, investment banks, and asset management firms.\n",
    "\n",
    "Example: Consider a scenario where a trader at an investment bank wants to execute a trade with a counterparty. The two entities use the FIX protocol to communicate seamlessly. The FIX messages exchanged between them include details about the trade, such as the security being traded, the quantity, price, and other relevant information.\n",
    "\n",
    "### Trading Activity and Messages:\n",
    "\n",
    "Trading activity generates a significant number of messages about orders sent by market participants. These messages typically adhere to the Financial Information eXchange (FIX) protocol. FIX is an industry-standard protocol for the real-time exchange of securities transactions and market data. Alternatively, exchanges may use their native protocols for communication.\n",
    "\n"
   ]
  },
  {
   "cell_type": "markdown",
   "metadata": {},
   "source": []
  },
  {
   "cell_type": "markdown",
   "metadata": {},
   "source": [
    "### Market Makers:\n",
    "\n",
    "**Role:** Market makers facilitate the buying and selling of financial instruments by providing liquidity to the market.\n",
    "\n",
    "**Primary Activity:** They continuously quote bid and ask prices, manage risk, and aim to profit from the bid-ask spread.\n",
    "\n",
    "**Examples:** Citadel Securities, Jane Street, Susquehanna International Group (SIG), Virtu Financial.\n",
    "\n",
    "### Investment Banks (IBD - Investment Banking Division):\n",
    "\n",
    "**Role:** Investment banks provide a wide range of financial services, including underwriting, mergers and acquisitions (M&A) advisory, and securities trading.\n",
    "\n",
    "**Primary Activity:** Investment banking divisions may engage in market-making activities, but their focus is often on advisory services, capital raising, and strategic financial transactions.\n",
    "\n",
    "**Examples:** Goldman Sachs, JPMorgan Chase, Morgan Stanley.\n",
    "\n",
    "### Hedge Funds:\n",
    "\n",
    "**Role:** Hedge funds are investment funds that pool capital from accredited individuals or institutional investors and employ various strategies to generate returns.\n",
    "\n",
    "**Primary Activity:** Hedge funds typically engage in active trading across different asset classes, including equities, fixed income, derivatives, and currencies.\n",
    "\n",
    "**Examples:** Bridgewater Associates, Renaissance Technologies, Citadel (note: Citadel operates both as a market maker and a hedge fund).\n",
    "\n",
    "### Asset Management Firms:\n",
    "\n",
    "**Role:** Asset management firms manage investment portfolios on behalf of clients, such as individuals, institutions, and pension funds.\n",
    "\n",
    "**Primary Activity:** Asset managers focus on investing in a diversified portfolio of securities to achieve specific financial objectives for their clients.\n",
    "\n",
    "**Examples:** BlackRock, Vanguard, Fidelity Investments.\n",
    "\n",
    "While there can be some overlap, especially in the case of diversified financial firms, these categories represent different roles and functions within the financial industry. Market makers are specialized entities focused on providing liquidity, while investment banks, hedge funds, and asset managers may have broader mandates that include market-making activities or other financial services.\n"
   ]
  },
  {
   "cell_type": "code",
   "execution_count": null,
   "metadata": {
    "vscode": {
     "languageId": "plaintext"
    }
   },
   "outputs": [],
   "source": []
  },
  {
   "cell_type": "markdown",
   "metadata": {},
   "source": [
    "## Interactive Brokers Interface:\n",
    "\n",
    "Interactive Brokers (IB) is a well-known brokerage firm, and it provides an interface for traders and developers to interact with its systems. This interface supports the FIX protocol for communication, allowing users to submit trade orders, receive market data, and manage their accounts using the standardized FIX messaging format.\n",
    "\n",
    "Use Case: Traders using Interactive Brokers can employ the FIX protocol to programmatically execute trades, monitor market data, and manage their portfolios. This interface provides a standardized and efficient way to interact with Interactive Brokers' trading infrastructure.\n",
    "\n",
    "### Interactive Brokers supports the FIX protocol as part of its interface, enabling traders to communicate seamlessly with its trading systems using FIX messages.\n"
   ]
  },
  {
   "cell_type": "markdown",
   "metadata": {},
   "source": []
  },
  {
   "cell_type": "markdown",
   "metadata": {},
   "source": [
    "## Nasdaq offers a TotalView ITCH direct data-feed protocol\n",
    "\n",
    "While FIX has a dominant large market share, exchanges also offer native protocols. \n",
    "\n",
    "The Nasdaq offers a TotalView ITCH direct data-feed protocol that allows subscribers to track individual orders for equity instruments from placement to execution or cancellation.\n",
    "\n",
    "The ITCH Specifications\n"
   ]
  },
  {
   "cell_type": "markdown",
   "metadata": {},
   "source": []
  },
  {
   "cell_type": "markdown",
   "metadata": {},
   "source": [
    "# AlgoSeek:\n",
    "\n",
    "**Role:** AlgoSeek provides historical intraday data, particularly minute bar data for equity quote and trade information. It caters to quantitative analysts and algorithmic traders, offering high-quality historical data for research and strategy development.\n",
    "\n",
    "**Notable Feature:** AlgoSeek's minute bars include comprehensive information such as OHLCV details, bid-ask spread, tick information, and more.\n",
    "\n",
    "# Securities Information Processor (SIP):\n",
    "\n",
    "**Role:** SIP refers to the Securities Information Processor, which is a centralized system responsible for consolidating and disseminating trade and quote information from various exchanges. The SIP is crucial for providing consolidated market data.\n",
    "\n",
    "**Function:** SIP helps ensure that investors and market participants receive a unified and comprehensive view of trading activity across different exchanges.\n",
    "\n",
    "# Polygon (formerly known as AlgoTrader):\n",
    "\n",
    "**Role:** Polygon is a financial technology company that provides market data and trading infrastructure services. It offers real-time and historical market data, as well as tools for algorithmic trading.\n",
    "\n",
    "**Notable Feature:** Polygon's platform includes a wide range of data, including equities, cryptocurrencies, and more. It aims to provide low-latency and reliable market data for developers and traders.\n",
    "\n",
    "# Interactive Brokers:\n",
    "\n",
    "**Role:** Interactive Brokers is a well-known brokerage firm that provides a trading platform for retail and institutional clients. It facilitates the execution of trades across various asset classes, including stocks, options, futures, and forex.\n",
    "\n",
    "**Notable Feature:** Interactive Brokers also offers an API (Application Programming Interface) that allows developers to programmatically interact with its trading platform. The API supports algorithmic trading and the integration of third-party applications.\n",
    "\n",
    "# Are They Similar?\n",
    "\n",
    "While AlgoSeek, SIP, Polygon, and Interactive Brokers are all involved in the financial industry, they are not directly similar in terms of their functions or offerings:\n",
    "\n",
    "- **AlgoSeek:** Primarily provides historical intraday data for strategy development.\n",
    "\n",
    "- **SIP (Securities Information Processor):** Centralized system for consolidating and disseminating trade and quote information from exchanges.\n",
    "\n",
    "- **Polygon:** Offers real-time and historical market data along with trading infrastructure services.\n",
    "\n",
    "- **Interactive Brokers:** A brokerage platform that facilitates the execution of trades and provides an API for algorithmic trading.\n",
    "\n",
    "In summary, AlgoSeek, SIP, Polygon, and Interactive Brokers serve different roles in the financial ecosystem, with AlgoSeek and Polygon focusing on data services, SIP on data consolidation, and Interactive Brokers on brokerage services.\n"
   ]
  },
  {
   "cell_type": "markdown",
   "metadata": {},
   "source": []
  },
  {
   "cell_type": "markdown",
   "metadata": {},
   "source": [
    "## How to work with Fundamental data\n",
    "Fundamental data pertains to the economic drivers that determine the value of securities. The nature of the data depends on the asset class: - For equities and corporate credit, it includes corporate financials as well as industry and economy-wide data. - For government bonds, it includes international macro-data and foreign exchange. - For commodities, it includes asset-specific supply-and-demand determinants, such as weather data for crops.\n",
    "\n",
    "We will focus on equity fundamentals for the US, where data is easier to access. There are some 13,000+ public companies worldwide that generate 2 million pages of annual reports and 30,000+ hours of earnings calls. In algorithmic trading, fundamental data and features engineered from this data may be used to derive trading signals directly, for example as value indicators, and are an essential input for predictive models, including machine learning models.\n",
    "\n",
    "### Financial statement data\n",
    "The Securities and Exchange Commission (SEC) requires US issuers, that is, listed companies and securities, including mutual funds to file three quarterly financial statements (Form 10-Q) and one annual report (Form 10-K), in addition to various other regulatory filing requirements.\n",
    "\n",
    "Since the early 1990s, the SEC made these filings available through its Electronic Data Gathering, Analysis, and Retrieval (EDGAR) system. They constitute the primary data source for the fundamental analysis of equity and other securities, such as corporate credit, where the value depends on the business prospects and financial health of the issuer.\n",
    "\n",
    "## Automated processing using XBRL markup\n",
    "Automated analysis of regulatory filings has become much easier since the SEC introduced XBRL, a free, open, and global standard for the electronic representation and exchange of business reports. XBRL is based on XML; it relies on taxonomies that define the meaning of the elements of a report and map to tags that highlight the corresponding information in the electronic version of the report. One such taxonomy represents the US Generally Accepted Accounting Principles (GAAP).\n",
    "\n",
    "The SEC introduced voluntary XBRL filings in 2005 in response to accounting scandals before requiring this format for all filers since 2009 and continues to expand the mandatory coverage to other regulatory filings. The SEC maintains a website that lists the current taxonomies that shape the content of different filings and can be used to extract specific items.\n",
    "\n",
    "There are several avenues to track and access fundamental data reported to the SEC: - As part of the EDGAR Public Dissemination Service (PDS), electronic feeds of accepted filings are available for a fee. - The SEC updates RSS feeds every 10 minutes, which list structured disclosure submissions. - There are public index files for the retrieval of all filings through FTP for automated processing. - The financial statement (and notes) datasets contain parsed XBRL data from all financial statements and the accompanying notes.\n",
    "\n",
    "The SEC also publishes log files containing the internet search traffic for EDGAR filings through SEC.gov, albeit with a six-month delay."
   ]
  },
  {
   "cell_type": "markdown",
   "metadata": {},
   "source": []
  },
  {
   "cell_type": "markdown",
   "metadata": {},
   "source": [
    "## Efficient data storage with pandas\n",
    "We'll be using many different data sets in this book, and it's worth comparing the main formats for efficiency and performance. In particular, we compare the following:\n",
    "\n",
    "### CSV: \n",
    "Comma-separated, standard flat text file format.\n",
    "\n",
    "### HDF5: \n",
    "Hierarchical data format, developed initially at the National Center for Supercomputing, is a fast and scalable storage format for numerical data, available in pandas using the PyTables library.\n",
    "\n",
    "### Parquet: \n",
    "A binary, columnar storage format, part of the Apache Hadoop ecosystem, that provides efficient data compression and encoding and has been developed by Cloudera and Twitter. It is available for pandas through the pyarrow library, led by Wes McKinney, the original author of pandas."
   ]
  }
 ],
 "metadata": {
  "language_info": {
   "name": "python"
  }
 },
 "nbformat": 4,
 "nbformat_minor": 2
}
