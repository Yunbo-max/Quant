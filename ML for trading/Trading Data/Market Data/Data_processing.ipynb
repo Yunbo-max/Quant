{
 "cells": [
  {
   "cell_type": "code",
   "execution_count": 2,
   "metadata": {},
   "outputs": [
    {
     "name": "stderr",
     "output_type": "stream",
     "text": [
      "/var/folders/_y/0xw7_0ss0s3f4kfhj9xl96zw0000gn/T/ipykernel_16923/4115897312.py:9: FutureWarning: The argument 'date_parser' is deprecated and will be removed in a future version. Please use 'date_format' instead, or read your data in as 'object' dtype and then call 'to_datetime'.\n",
      "  factors_ff3_monthly_raw = pdr.DataReader(\n",
      "/var/folders/_y/0xw7_0ss0s3f4kfhj9xl96zw0000gn/T/ipykernel_16923/4115897312.py:9: FutureWarning: The argument 'date_parser' is deprecated and will be removed in a future version. Please use 'date_format' instead, or read your data in as 'object' dtype and then call 'to_datetime'.\n",
      "  factors_ff3_monthly_raw = pdr.DataReader(\n",
      "/var/folders/_y/0xw7_0ss0s3f4kfhj9xl96zw0000gn/T/ipykernel_16923/4115897312.py:23: FutureWarning: The argument 'date_parser' is deprecated and will be removed in a future version. Please use 'date_format' instead, or read your data in as 'object' dtype and then call 'to_datetime'.\n",
      "  factors_ff5_monthly_raw = pdr.DataReader(\n",
      "/var/folders/_y/0xw7_0ss0s3f4kfhj9xl96zw0000gn/T/ipykernel_16923/4115897312.py:23: FutureWarning: The argument 'date_parser' is deprecated and will be removed in a future version. Please use 'date_format' instead, or read your data in as 'object' dtype and then call 'to_datetime'.\n",
      "  factors_ff5_monthly_raw = pdr.DataReader(\n",
      "/var/folders/_y/0xw7_0ss0s3f4kfhj9xl96zw0000gn/T/ipykernel_16923/4115897312.py:37: FutureWarning: The argument 'date_parser' is deprecated and will be removed in a future version. Please use 'date_format' instead, or read your data in as 'object' dtype and then call 'to_datetime'.\n",
      "  factors_ff3_daily_raw = pdr.DataReader(\n"
     ]
    }
   ],
   "source": [
    "import pandas as pd\n",
    "import numpy as np\n",
    "\n",
    "start_date = \"1960-01-01\"\n",
    "end_date = \"2022-12-31\"\n",
    "\n",
    "import pandas_datareader as pdr\n",
    "\n",
    "factors_ff3_monthly_raw = pdr.DataReader(\n",
    "  name=\"F-F_Research_Data_Factors\",\n",
    "  data_source=\"famafrench\", \n",
    "  start=start_date, \n",
    "  end=end_date)[0]\n",
    "\n",
    "factors_ff3_monthly = (factors_ff3_monthly_raw\n",
    "  .divide(100)\n",
    "  .reset_index(names=\"month\")\n",
    "  .assign(month=lambda x: pd.to_datetime(x[\"month\"].astype(str)))\n",
    "  .rename(str.lower, axis=\"columns\")\n",
    "  .rename(columns={\"mkt-rf\": \"mkt_excess\"})\n",
    ")\n",
    "\n",
    "factors_ff5_monthly_raw = pdr.DataReader(\n",
    "  name=\"F-F_Research_Data_5_Factors_2x3\",\n",
    "  data_source=\"famafrench\", \n",
    "  start=start_date, \n",
    "  end=end_date)[0]\n",
    "\n",
    "factors_ff5_monthly = (factors_ff5_monthly_raw\n",
    "  .divide(100)\n",
    "  .reset_index(names=\"month\")\n",
    "  .assign(month=lambda x: pd.to_datetime(x[\"month\"].astype(str)))\n",
    "  .rename(str.lower, axis=\"columns\")\n",
    "  .rename(columns={\"mkt-rf\": \"mkt_excess\"})\n",
    ")\n",
    "\n",
    "factors_ff3_daily_raw = pdr.DataReader(\n",
    "  name=\"F-F_Research_Data_Factors_daily\",\n",
    "  data_source=\"famafrench\", \n",
    "  start=start_date, \n",
    "  end=end_date)[0]\n",
    "\n",
    "factors_ff3_daily = (factors_ff3_daily_raw\n",
    "  .divide(100)\n",
    "  .reset_index(names=\"date\")\n",
    "  .rename(str.lower, axis=\"columns\")\n",
    "  .rename(columns={\"mkt-rf\": \"mkt_excess\"})\n",
    ")"
   ]
  },
  {
   "cell_type": "code",
   "execution_count": 3,
   "metadata": {},
   "outputs": [
    {
     "name": "stderr",
     "output_type": "stream",
     "text": [
      "/var/folders/_y/0xw7_0ss0s3f4kfhj9xl96zw0000gn/T/ipykernel_16923/192540579.py:1: FutureWarning: The argument 'date_parser' is deprecated and will be removed in a future version. Please use 'date_format' instead, or read your data in as 'object' dtype and then call 'to_datetime'.\n",
      "  industries_ff_monthly_raw = pdr.DataReader(\n",
      "/var/folders/_y/0xw7_0ss0s3f4kfhj9xl96zw0000gn/T/ipykernel_16923/192540579.py:1: FutureWarning: The argument 'date_parser' is deprecated and will be removed in a future version. Please use 'date_format' instead, or read your data in as 'object' dtype and then call 'to_datetime'.\n",
      "  industries_ff_monthly_raw = pdr.DataReader(\n",
      "/var/folders/_y/0xw7_0ss0s3f4kfhj9xl96zw0000gn/T/ipykernel_16923/192540579.py:1: FutureWarning: The argument 'date_parser' is deprecated and will be removed in a future version. Please use 'date_format' instead, or read your data in as 'object' dtype and then call 'to_datetime'.\n",
      "  industries_ff_monthly_raw = pdr.DataReader(\n",
      "/var/folders/_y/0xw7_0ss0s3f4kfhj9xl96zw0000gn/T/ipykernel_16923/192540579.py:1: FutureWarning: The argument 'date_parser' is deprecated and will be removed in a future version. Please use 'date_format' instead, or read your data in as 'object' dtype and then call 'to_datetime'.\n",
      "  industries_ff_monthly_raw = pdr.DataReader(\n",
      "/var/folders/_y/0xw7_0ss0s3f4kfhj9xl96zw0000gn/T/ipykernel_16923/192540579.py:1: FutureWarning: The argument 'date_parser' is deprecated and will be removed in a future version. Please use 'date_format' instead, or read your data in as 'object' dtype and then call 'to_datetime'.\n",
      "  industries_ff_monthly_raw = pdr.DataReader(\n",
      "/var/folders/_y/0xw7_0ss0s3f4kfhj9xl96zw0000gn/T/ipykernel_16923/192540579.py:1: FutureWarning: The argument 'date_parser' is deprecated and will be removed in a future version. Please use 'date_format' instead, or read your data in as 'object' dtype and then call 'to_datetime'.\n",
      "  industries_ff_monthly_raw = pdr.DataReader(\n",
      "/var/folders/_y/0xw7_0ss0s3f4kfhj9xl96zw0000gn/T/ipykernel_16923/192540579.py:1: FutureWarning: The argument 'date_parser' is deprecated and will be removed in a future version. Please use 'date_format' instead, or read your data in as 'object' dtype and then call 'to_datetime'.\n",
      "  industries_ff_monthly_raw = pdr.DataReader(\n",
      "/var/folders/_y/0xw7_0ss0s3f4kfhj9xl96zw0000gn/T/ipykernel_16923/192540579.py:1: FutureWarning: The argument 'date_parser' is deprecated and will be removed in a future version. Please use 'date_format' instead, or read your data in as 'object' dtype and then call 'to_datetime'.\n",
      "  industries_ff_monthly_raw = pdr.DataReader(\n"
     ]
    }
   ],
   "source": [
    "industries_ff_monthly_raw = pdr.DataReader(\n",
    "  name=\"10_Industry_Portfolios\",\n",
    "  data_source=\"famafrench\", \n",
    "  start=start_date, \n",
    "  end=end_date)[0]\n",
    "\n",
    "industries_ff_monthly = (industries_ff_monthly_raw\n",
    "  .divide(100)\n",
    "  .reset_index(names=\"month\")\n",
    "  .assign(month=lambda x: pd.to_datetime(x[\"month\"].astype(str)))\n",
    "  .rename(str.lower, axis=\"columns\")\n",
    ")"
   ]
  },
  {
   "cell_type": "code",
   "execution_count": 4,
   "metadata": {},
   "outputs": [],
   "source": [
    "factors_q_monthly_link = (\n",
    "  \"https://global-q.org/uploads/1/2/2/6/122679606/\"\n",
    "  \"q5_factors_monthly_2022.csv\"\n",
    ")\n",
    "\n",
    "factors_q_monthly = (pd.read_csv(factors_q_monthly_link)\n",
    "  .assign(\n",
    "    month=lambda x: (\n",
    "      pd.to_datetime(x[\"year\"].astype(str) + \"-\" +\n",
    "        x[\"month\"].astype(str) + \"-01\"))\n",
    "  )\n",
    "  .drop(columns=[\"R_F\", \"R_MKT\", \"year\"])\n",
    "  .rename(columns=lambda x: x.replace(\"R_\", \"\").lower())\n",
    "  .query(f\"month >= '{start_date}' and month <= '{end_date}'\")\n",
    "  .assign(\n",
    "    **{col: lambda x: x[col]/100 for col in [\"me\", \"ia\", \"roe\", \"eg\"]}\n",
    "  )\n",
    ")"
   ]
  }
 ],
 "metadata": {
  "kernelspec": {
   "display_name": "quant",
   "language": "python",
   "name": "python3"
  },
  "language_info": {
   "codemirror_mode": {
    "name": "ipython",
    "version": 3
   },
   "file_extension": ".py",
   "mimetype": "text/x-python",
   "name": "python",
   "nbconvert_exporter": "python",
   "pygments_lexer": "ipython3",
   "version": "3.9.18"
  }
 },
 "nbformat": 4,
 "nbformat_minor": 2
}
