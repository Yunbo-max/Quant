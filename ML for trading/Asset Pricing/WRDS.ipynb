{
 "cells": [
  {
   "cell_type": "code",
   "execution_count": null,
   "metadata": {},
   "outputs": [],
   "source": [
    "import pandas as pd\n",
    "import numpy as np\n",
    "import sqlite3\n",
    "\n",
    "from plotnine import *\n",
    "from mizani.formatters import comma_format, percent_format\n",
    "from datetime import datetime\n",
    "\n",
    "start_date = \"01/01/1960\"\n",
    "end_date = \"12/31/2015\"\n",
    "\n",
    "import os\n",
    "from dotenv import load_dotenv\n",
    "load_dotenv()\n",
    "from sqlalchemy import create_engine\n",
    "\n",
    "connection_string = (\n",
    "  \"postgresql+psycopg2://\"\n",
    " f\"{os.getenv('yunbo')}:{os.getenv('longfu118879')}\"\n",
    "  \"@wrds-pgdata.wharton.upenn.edu:9737/wrds\"\n",
    ")\n",
    "\n",
    "wrds = create_engine(connection_string, pool_pre_ping=True)\n",
    "\n",
    "\n",
    "crsp_monthly_query = (\n",
    "  \"SELECT msf.permno, msf.date, \"\n",
    "         \"date_trunc('month', msf.date)::date as month, \"\n",
    "         \"msf.ret, msf.shrout, msf.altprc, \"\n",
    "         \"msenames.exchcd, msenames.siccd, \"\n",
    "         \"msedelist.dlret, msedelist.dlstcd \"\n",
    "  \n",
    "   f\"WHERE msf.date BETWEEN '{start_date}' AND '{end_date}' \"\n",
    "          \"AND msenames.shrcd IN (10, 11)\"\n",
    ")\n",
    "\n",
    "crsp_monthly = (pd.read_sql_query(\n",
    "    sql=crsp_monthly_query,\n",
    "    con=wrds,\n",
    "    dtype={\"permno\": int, \"exchcd\": int, \"siccd\": int},\n",
    "    parse_dates={\"date\", \"month\"})\n",
    "  .assign(shrout=lambda x: x[\"shrout\"]*1000)\n",
    ")\n"
   ]
  },
  {
   "cell_type": "code",
   "execution_count": null,
   "metadata": {},
   "outputs": [],
   "source": [
    "# import wrds\n",
    "# conn = wrds.Connection()"
   ]
  },
  {
   "cell_type": "code",
   "execution_count": null,
   "metadata": {},
   "outputs": [],
   "source": [
    "import os\n",
    "from dotenv import load_dotenv\n",
    "load_dotenv()\n",
    "from sqlalchemy import create_engine\n",
    "\n",
    "connection_string = (\n",
    "  \"postgresql+psycopg2://\"\n",
    " f\"{os.getenv('yunbo')}:{os.getenv('longfu118879')}\"\n",
    "  \"@wrds-pgdata.wharton.upenn.edu:9737/wrds\"\n",
    ")\n",
    "\n",
    "wrds = create_engine(connection_string, pool_pre_ping=True)"
   ]
  },
  {
   "cell_type": "code",
   "execution_count": null,
   "metadata": {},
   "outputs": [
    {
     "ename": "",
     "evalue": "",
     "output_type": "error",
     "traceback": [
      "\u001b[1;31mThe Kernel crashed while executing code in the the current cell or a previous cell. Please review the code in the cell(s) to identify a possible cause of the failure. Click <a href='https://aka.ms/vscodeJupyterKernelCrash'>here</a> for more info. View Jupyter <a href='command:jupyter.viewOutput'>log</a> for further details."
     ]
    }
   ],
   "source": [
    "crsp_monthly_query = (\n",
    "  \"SELECT msf.permno, msf.date, \"\n",
    "         \"date_trunc('month', msf.date)::date as month, \"\n",
    "         \"msf.ret, msf.shrout, msf.altprc, \"\n",
    "         \"msenames.exchcd, msenames.siccd, \"\n",
    "         \"msedelist.dlret, msedelist.dlstcd \"\n",
    "    \"FROM crsp.msf AS msf \"\n",
    "    \"LEFT JOIN crsp.msenames as msenames \"\n",
    "    \"ON msf.permno = msenames.permno AND \"\n",
    "       \"msenames.namedt <= msf.date AND \"\n",
    "       \"msf.date <= msenames.nameendt \"\n",
    "    \"LEFT JOIN crsp.msedelist as msedelist \"\n",
    "    \"ON msf.permno = msedelist.permno AND \"\n",
    "       \"date_trunc('month', msf.date)::date = \"\n",
    "       \"date_trunc('month', msedelist.dlstdt)::date \"\n",
    "   f\"WHERE msf.date BETWEEN '{start_date}' AND '{end_date}' \"\n",
    "          \"AND msenames.shrcd IN (10, 11)\"\n",
    ")\n",
    "\n",
    "crsp_monthly = (pd.read_sql_query(\n",
    "    sql=crsp_monthly_query,\n",
    "    con=wrds,\n",
    "    dtype={\"permno\": int, \"exchcd\": int, \"siccd\": int},\n",
    "    parse_dates={\"date\", \"month\"})\n",
    "  .assign(shrout=lambda x: x[\"shrout\"]*1000)\n",
    ")"
   ]
  }
 ],
 "metadata": {
  "kernelspec": {
   "display_name": "quant",
   "language": "python",
   "name": "python3"
  },
  "language_info": {
   "codemirror_mode": {
    "name": "ipython",
    "version": 3
   },
   "file_extension": ".py",
   "mimetype": "text/x-python",
   "name": "python",
   "nbconvert_exporter": "python",
   "pygments_lexer": "ipython3",
   "version": "3.9.18"
  }
 },
 "nbformat": 4,
 "nbformat_minor": 2
}
