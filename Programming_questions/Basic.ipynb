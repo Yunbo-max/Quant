{
 "cells": [
  {
   "cell_type": "markdown",
   "metadata": {},
   "source": [
    "PEP 8"
   ]
  },
  {
   "cell_type": "code",
   "execution_count": null,
   "metadata": {},
   "outputs": [],
   "source": [
    "# 1. def 之后需要空两行\n",
    "# 2. 最大行长79个字符（两个页面打开任何一行不会被遮住）\n",
    "# 3. 不能在运算符之后换行\n",
    "# 4. import 分开换行，但是使用from。。import的时候放在一行\n",
    "# 5.注释要介绍计算方法不是代码本身\n",
    "\n",
    "\n",
    "i = i + 1\n",
    "x = x*2 + 1\n",
    "h = x*x + y*y\n",
    "c = (a+b) * (a-b)\n",
    "\n",
    "# def my_function()\n",
    "# Class MyClass(self):\n",
    "# my_module.py\n",
    "# MY_CONSTANT 常量要大写\n",
    "\n",
    "# 6.直接使用if my_list: 不要if len(my_list)\n",
    "# 7.函数参数无需空格\n",
    "def complex(real=0, imag=0):\n",
    "    return magic(r=real, i=imag)"
   ]
  },
  {
   "cell_type": "markdown",
   "metadata": {},
   "source": [
    "Python Basics"
   ]
  },
  {
   "cell_type": "code",
   "execution_count": 37,
   "metadata": {},
   "outputs": [
    {
     "name": "stdout",
     "output_type": "stream",
     "text": [
      "[1, 2, 'dsf', 3, 5, 342, 243, 3, 5, 342, 243]\n",
      "[2, 'dsf']\n",
      "[342, 243, 5, 3]\n",
      "1\n",
      "\n",
      "\n",
      "0\n",
      "[1, 2, 'dsf', 3]\n",
      "[1, 'dsf', 3]\n",
      "[1, 'dsf']\n"
     ]
    }
   ],
   "source": [
    "# list\n",
    "\n",
    "list1 = [1,2,'dsf']\n",
    "list2 = [3,5,342,243]\n",
    "list3 = list2*2\n",
    "print(list1+list3)\n",
    "print(list1[1:3])\n",
    "\n",
    "list1.append(3)\n",
    "list1.insert(1,3)\n",
    "\n",
    "list2.sort()\n",
    "list2.reverse()\n",
    "print(list2)\n",
    "\n",
    "\n",
    "print(list1.count('dsf'))\n",
    "print('\\n')\n",
    "print(list3.index(3))\n",
    "\n",
    "\n",
    "\n",
    "a = list1.pop(1)\n",
    "print(list1)\n",
    "del list1[1]\n",
    "print(list1)\n",
    "list1.remove(3)\n",
    "print(list1)\n",
    "\n"
   ]
  },
  {
   "cell_type": "code",
   "execution_count": 42,
   "metadata": {},
   "outputs": [
    {
     "name": "stdout",
     "output_type": "stream",
     "text": [
      "Found 3 at index 0\n",
      "Found 3 at index 4\n",
      "[0, 4]\n"
     ]
    }
   ],
   "source": [
    "# search index for all\n",
    "\n",
    "for index, value in enumerate(list3):\n",
    "    if value == 3:\n",
    "        print(f\"Found 3 at index {index}\")\n",
    "\n",
    "indices = [i for i,value in enumerate(list3) if value ==3]\n",
    "print(indices)"
   ]
  },
  {
   "cell_type": "code",
   "execution_count": 55,
   "metadata": {},
   "outputs": [
    {
     "name": "stdout",
     "output_type": "stream",
     "text": [
      "YUNBO LONG\n",
      "4\n",
      "[4, 7]\n",
      "yunbi ling\n",
      "yun\n"
     ]
    }
   ],
   "source": [
    "# string\n",
    "\n",
    "\n",
    "string1 = 'yunbo long'\n",
    "\n",
    "print(string1.upper())\n",
    "print(string1.find('o'))\n",
    "\n",
    "indices = [i for i,value in enumerate(string1) if value =='o']\n",
    "print(indices)\n",
    "\n",
    "string1.count('o')\n",
    "string1.find('o')\n",
    "\n",
    "list2 = string1.split(' ')\n",
    "print(list2[1])\n",
    "new_name1 = string1.replace('o','i')\n",
    "new_name2 = string1[:3]\n",
    "\n",
    "print(new_name1)\n",
    "print(new_name2)\n"
   ]
  },
  {
   "cell_type": "code",
   "execution_count": 10,
   "metadata": {},
   "outputs": [
    {
     "name": "stdout",
     "output_type": "stream",
     "text": [
      "[0, 1, 2]\n",
      "10\n",
      "8\n",
      "6\n",
      "4\n",
      "2\n",
      "True\n"
     ]
    }
   ],
   "source": [
    "print(list(range(3)))\n",
    "for i in range(10,1,-2):\n",
    "    print(i)\n",
    "\n",
    "\n",
    "# tuple\n",
    "\n",
    "mytuple = (2,True,'adsf')\n",
    "name,age,person = mytuple\n",
    "print(age)\n",
    "\n"
   ]
  },
  {
   "cell_type": "code",
   "execution_count": 24,
   "metadata": {},
   "outputs": [
    {
     "name": "stdout",
     "output_type": "stream",
     "text": [
      "{'asdf'}\n"
     ]
    }
   ],
   "source": [
    "# set\n",
    "\n",
    "case = set({1,'asdf',3})\n",
    "\n",
    "case.add(4)\n",
    "\n",
    "case.remove(1)\n",
    "\n",
    "set_b = {3,4}\n",
    "\n",
    "case\n",
    "\n",
    "case.intersection(set_b)\n",
    "\n",
    "case.issubset(set_b)\n",
    "\n",
    "case>=set_b\n",
    "\n",
    "print(case-set_b)\n",
    "\n",
    "# in/len/|/&/-\n"
   ]
  },
  {
   "cell_type": "code",
   "execution_count": 30,
   "metadata": {},
   "outputs": [
    {
     "name": "stdout",
     "output_type": "stream",
     "text": [
      "name\n",
      "age\n",
      "city\n",
      "Eve\n",
      "28\n",
      "London\n",
      "Eve\n",
      "dict_keys(['name', 'age', 'city'])\n",
      "dict_values(['Eve', 28, 'London'])\n",
      "dict_items([('name', 'Eve'), ('age', 28), ('city', 'London')])\n",
      "[('name', 'Eve'), ('age', 28), ('city', 'London')]\n"
     ]
    }
   ],
   "source": [
    "# Dictionary\n",
    "empty_dict = {}\n",
    "person = {\n",
    "    \"name\": \"Alice\",\n",
    "    \"age\": 30,\n",
    "    \"occupation\": \"Teacher\"\n",
    "}\n",
    "\n",
    "squares = {x: x ** 2 for x in range(1, 6)}\n",
    "\n",
    "another_empty_dict = dict()\n",
    "\n",
    "\n",
    "keys = [\"name\", \"age\", \"city\"]\n",
    "values = [\"Eve\", 28, \"London\"]\n",
    "person = dict(zip(keys, values))\n",
    "\n",
    "for i in person:\n",
    "    print(i)\n",
    "\n",
    "for i in person:\n",
    "    print(person[i])\n",
    "\n",
    "print(person.get('name'))\n",
    "\n",
    "print(person.keys())\n",
    "print(person.values())\n",
    "print(person.items())\n",
    "\n",
    "final = list(person.items())\n",
    "print(final)\n"
   ]
  },
  {
   "cell_type": "code",
   "execution_count": null,
   "metadata": {},
   "outputs": [],
   "source": [
    "# Calculation Complexity"
   ]
  },
  {
   "cell_type": "code",
   "execution_count": 6,
   "metadata": {},
   "outputs": [
    {
     "name": "stdout",
     "output_type": "stream",
     "text": [
      "<class 'float'>\n",
      "asdf is 123.12343 years old\n",
      "      asdfs is 123.123 years old.\n",
      "asdf       is 123.123 years old.\n",
      "John is 30.0 years old.\n",
      "The banana costs    24.0 cents\n"
     ]
    }
   ],
   "source": [
    "# input\n",
    "name = input('Please enter your name')\n",
    "age = float(input('Please enter your age'))\n",
    "print(type(age))\n",
    "\n",
    "# print()\n",
    "print(name,'is',age,'years old')\n",
    "print(\"%+10ss is %5.3f years old.\"%(name,age))\n",
    "\n",
    "output = \"{:10s} is {:.3f} years old.\".format(name, age)\n",
    "print(output)\n",
    "\n",
    "name = \"John\"\n",
    "age = 30\n",
    "\n",
    "# Using the format method within the print statement\n",
    "print(\"{} is {:.1f} years old.\".format(name, age))\n",
    "\n",
    "itemdict = {\"item\":\"banana\",\"cost\":24}\n",
    "print(\"The %(item)s costs %(cost)7.1f cents\"%itemdict)\n",
    "\n"
   ]
  },
  {
   "cell_type": "code",
   "execution_count": 15,
   "metadata": {},
   "outputs": [
    {
     "name": "stdout",
     "output_type": "stream",
     "text": [
      "[1, 2, 3, 5]\n",
      "5.291502622129181\n"
     ]
    }
   ],
   "source": [
    "# recurring problems\n",
    "# 1. for会被跳过\n",
    "numbers = [1, 2, 2,3, 4, 5]\n",
    "\n",
    "for num in numbers:\n",
    "    if num % 2 == 0:\n",
    "        numbers.remove(num)\n",
    "\n",
    "print(numbers)\n",
    "\n",
    "# 2.无限循环\n",
    "count = 0\n",
    "while count < 5:\n",
    "    print(count)\n",
    "\n",
    "\n",
    "def squareroot(n):\n",
    "    root = n/2 #initial guess will be 1/2 of n \n",
    "    for k in range(20):\n",
    "        root = (1/2)*(root + (n / root))\n",
    "    return root\n",
    "\n",
    "print(squareroot(28))"
   ]
  },
  {
   "cell_type": "markdown",
   "metadata": {},
   "source": [
    "Big OO"
   ]
  },
  {
   "cell_type": "markdown",
   "metadata": {},
   "source": [
    "Lists:\n",
    "Time Complexity:\n",
    "\n",
    "Access: O(1)\n",
    "Search: O(n)\n",
    "Insertion at the end: O(1)\n",
    "Insertion at a specific index: O(n)\n",
    "Deletion at the end: O(1)\n",
    "Deletion at a specific index: O(n)\n",
    "Space Complexity:\n",
    "\n",
    "O(n)\n",
    "Dictionaries:\n",
    "Time Complexity:\n",
    "\n",
    "Access: O(1) on average (can be O(n) in worst case)\n",
    "Search: O(1) on average (can be O(n) in worst case)\n",
    "Insertion: O(1) on average (can be O(n) in worst case)\n",
    "Deletion: O(1) on average (can be O(n) in worst case)\n",
    "Space Complexity:\n",
    "\n",
    "O(n), where n is the number of key-value pairs in the dictionary.\n",
    "Strings:\n",
    "Time Complexity:\n",
    "\n",
    "Access: O(1)\n",
    "Search: O(n)\n",
    "Concatenation: O(n)\n",
    "Slicing: O(k), where k is the length of the slice\n",
    "Deletion: O(n)\n",
    "Space Complexity:\n",
    "\n",
    "O(n), where n is the length of the string.\n",
    "Tuples:\n",
    "Time Complexity:\n",
    "\n",
    "Access: O(1)\n",
    "Search: O(n)\n",
    "Concatenation: O(n)\n",
    "Slicing: O(k), where k is the length of the slice\n",
    "Deletion: O(n)\n",
    "Space Complexity:\n",
    "\n",
    "O(n), where n is the length of the tuple.\n",
    "Sets:\n",
    "Time Complexity:\n",
    "\n",
    "Access: Not applicable (no direct access to elements)\n",
    "Search: O(1) on average\n",
    "Insertion: O(1) on average\n",
    "Deletion: O(1) on average\n",
    "Space Complexity:O(n), where n is the number of elements in the set.\n"
   ]
  },
  {
   "cell_type": "code",
   "execution_count": 1,
   "metadata": {},
   "outputs": [
    {
     "name": "stderr",
     "output_type": "stream",
     "text": [
      "BRK.B: No timezone found, symbol may be delisted\n",
      "BF.B: No price data found, symbol may be delisted (1d 1924-12-01 -> 2023-11-08)\n"
     ]
    },
    {
     "name": "stdout",
     "output_type": "stream",
     "text": [
      "Success Rate: 0.5043221589711153\n",
      "Average ROI: 3.5946050224474066e-05\n"
     ]
    }
   ],
   "source": []
  }
 ],
 "metadata": {
  "kernelspec": {
   "display_name": "Cambridge",
   "language": "python",
   "name": "python3"
  },
  "language_info": {
   "codemirror_mode": {
    "name": "ipython",
    "version": 3
   },
   "file_extension": ".py",
   "mimetype": "text/x-python",
   "name": "python",
   "nbconvert_exporter": "python",
   "pygments_lexer": "ipython3",
   "version": "3.10.13"
  }
 },
 "nbformat": 4,
 "nbformat_minor": 2
}
