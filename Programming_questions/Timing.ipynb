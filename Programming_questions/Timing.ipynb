{
 "cells": [
  {
   "cell_type": "code",
   "execution_count": 5,
   "metadata": {},
   "outputs": [
    {
     "name": "stdout",
     "output_type": "stream",
     "text": [
      "         14 function calls in 0.483 seconds\n",
      "\n",
      "   Ordered by: standard name\n",
      "\n",
      "   ncalls  tottime  percall  cumtime  percall filename:lineno(function)\n",
      "       10    0.483    0.048    0.483    0.048 3934699314.py:2(example_function)\n",
      "        1    0.000    0.000    0.483    0.483 3934699314.py:8(main)\n",
      "        1    0.000    0.000    0.483    0.483 <string>:1(<module>)\n",
      "        1    0.000    0.000    0.483    0.483 {built-in method builtins.exec}\n",
      "        1    0.000    0.000    0.000    0.000 {method 'disable' of '_lsprof.Profiler' objects}\n",
      "\n",
      "\n"
     ]
    }
   ],
   "source": [
    "import cProfile\n",
    "def example_function():\n",
    "    result = 0\n",
    "    for i in range(1000000):\n",
    "        result += i\n",
    "    return result\n",
    "\n",
    "def main():\n",
    "    for _ in range(10):\n",
    "        example_function()\n",
    "\n",
    "if __name__ == \"__main__\":\n",
    "    cProfile.run('main()')"
   ]
  },
  {
   "cell_type": "code",
   "execution_count": 1,
   "metadata": {},
   "outputs": [
    {
     "ename": "IndentationError",
     "evalue": "expected an indented block after function definition on line 3 (1421066613.py, line 6)",
     "output_type": "error",
     "traceback": [
      "\u001b[0;36m  Cell \u001b[0;32mIn[1], line 6\u001b[0;36m\u001b[0m\n\u001b[0;31m    if __name__ == \"__main__\":\u001b[0m\n\u001b[0m    ^\u001b[0m\n\u001b[0;31mIndentationError\u001b[0m\u001b[0;31m:\u001b[0m expected an indented block after function definition on line 3\n"
     ]
    }
   ],
   "source": [
    "import cProfile\n",
    "\n",
    "def your_function():\n",
    "    # Your code here\n",
    "\n",
    "if __name__ == \"__main__\":\n",
    "    # Create a cProfile object\n",
    "    profiler = cProfile.Profile()\n",
    "\n",
    "    # Start profiling\n",
    "    profiler.enable()\n",
    "\n",
    "    # Call the function you want to profile\n",
    "    your_function()\n",
    "\n",
    "    # Stop profiling\n",
    "    profiler.disable()\n",
    "\n",
    "    # Print the profiling results\n",
    "    profiler.print_stats()\n",
    "\n",
    "\n",
    "    \n"
   ]
  },
  {
   "cell_type": "code",
   "execution_count": null,
   "metadata": {},
   "outputs": [],
   "source": [
    "import profile\n",
    "\n",
    "def your_function():\n",
    "    # Your code here\n",
    "\n",
    "if __name__ == \"__main__\":\n",
    "    # Run the profiler on the function\n",
    "    profile.run('your_function()')\n"
   ]
  },
  {
   "cell_type": "code",
   "execution_count": null,
   "metadata": {},
   "outputs": [],
   "source": [
    "import timeit\n",
    "\n",
    "def your_function():\n",
    "    # Your code here\n",
    "\n",
    "if __name__ == \"__main__\":\n",
    "    # Time the execution of your_function\n",
    "    execution_time = timeit.timeit(\"your_function()\", setup=\"from __main__ import your_function\", number=1)\n",
    "\n",
    "    print(f\"Execution time: {execution_time} seconds\")\n"
   ]
  },
  {
   "cell_type": "code",
   "execution_count": null,
   "metadata": {},
   "outputs": [],
   "source": [
    "# Run the profiler and generate a visualization\n",
    "python -m cProfile -o profile_data your_script.py\n",
    "snakeviz profile_data"
   ]
  }
 ],
 "metadata": {
  "kernelspec": {
   "display_name": "Cambridge",
   "language": "python",
   "name": "python3"
  },
  "language_info": {
   "codemirror_mode": {
    "name": "ipython",
    "version": 3
   },
   "file_extension": ".py",
   "mimetype": "text/x-python",
   "name": "python",
   "nbconvert_exporter": "python",
   "pygments_lexer": "ipython3",
   "version": "3.10.13"
  }
 },
 "nbformat": 4,
 "nbformat_minor": 2
}
